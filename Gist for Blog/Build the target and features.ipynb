{
 "cells": [
  {
   "cell_type": "code",
   "execution_count": 3,
   "metadata": {
    "collapsed": true
   },
   "outputs": [],
   "source": [
    "# For our target we add up all the sales by city\n",
    "citytarget = BIGMERGE.groupby('City', as_index=False)['Sale (Dollars)'].sum()\n",
    "# And we divide that by that average number of stores in the city each month\n",
    "citytarget['Sales per Store'] = citytarget['Sale (Dollars)']/BIGMERGE.groupby('City', as_index=False)['Monthly Stores in City'].mean()['Monthly Stores in City']"
   ]
  },
  {
   "cell_type": "code",
   "execution_count": 4,
   "metadata": {
    "collapsed": true
   },
   "outputs": [],
   "source": [
    "# Features are similar.  We take the average population per store and number of stores in city over the time period.\n",
    "features = BIGMERGE.groupby('City', as_index=False)['Pop per Store', 'Monthly Stores in City'].mean()"
   ]
  },
  {
   "cell_type": "code",
   "execution_count": 5,
   "metadata": {
    "collapsed": true
   },
   "outputs": [],
   "source": [
    "# And then we tack on the average store sales for Jan, Feb, and Mar.\n",
    "features = pd.merge(features, BIGMERGE[(BIGMERGE['Year']==2015) & (BIGMERGE['Month']==1)].groupby('City', as_index=False)[['Sale (Dollars)', 'Volume Sold (Liters)']].mean(), how='left', on='City')\n",
    "features = pd.merge(features, BIGMERGE[(BIGMERGE['Year']==2015) & (BIGMERGE['Month']==2)].groupby('City', as_index=False)[['Sale (Dollars)', 'Volume Sold (Liters)']].mean(), how='left', on='City')\n",
    "features = pd.merge(features, BIGMERGE[(BIGMERGE['Year']==2015) & (BIGMERGE['Month']==3)].groupby('City', as_index=False)[['Sale (Dollars)', 'Volume Sold (Liters)']].mean(), how='left', on='City')\n",
    "# Plus we rename the columns so we know what's what.\n",
    "features.columns = ['City', 'Pop per Store', 'Monthly Stores in City', 'Jan_2015_Sales', 'Jan_2015_Volume_Sold(L)', 'Feb_2015_Sales', 'Feb_2015_Volume_Sold(L)', 'Mar_2015_Sales', 'Mar_2015_Volume_Sold(L)']"
   ]
  },
  {
   "cell_type": "code",
   "execution_count": 7,
   "metadata": {
    "collapsed": true
   },
   "outputs": [],
   "source": [
    "# Now some cities did not have sales in certain months so we make those 0\n",
    "features = features.fillna(0)"
   ]
  },
  {
   "cell_type": "code",
   "execution_count": 8,
   "metadata": {},
   "outputs": [
    {
     "name": "stdout",
     "output_type": "stream",
     "text": [
      "(370, 9)\n",
      "(371, 3)\n"
     ]
    }
   ],
   "source": [
    "# Double check that we are dealing with similar beasts\n",
    "print(features.shape)\n",
    "print(citytarget.shape)"
   ]
  }
 ],
 "metadata": {
  "gist_id": "dc1a49354d215de8bcac5d7d81dc4da5",
  "kernelspec": {
   "display_name": "Python 3",
   "language": "python",
   "name": "python3"
  },
  "language_info": {
   "codemirror_mode": {
    "name": "ipython",
    "version": 3
   },
   "file_extension": ".py",
   "mimetype": "text/x-python",
   "name": "python",
   "nbconvert_exporter": "python",
   "pygments_lexer": "ipython3",
   "version": "3.6.2"
  }
 },
 "nbformat": 4,
 "nbformat_minor": 2
}
