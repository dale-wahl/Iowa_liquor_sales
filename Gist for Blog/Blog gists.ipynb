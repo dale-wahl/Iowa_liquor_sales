{
 "cells": [
  {
   "cell_type": "code",
   "execution_count": 1,
   "metadata": {},
   "outputs": [
    {
     "name": "stderr",
     "output_type": "stream",
     "text": [
      "/anaconda/lib/python3.6/site-packages/statsmodels/compat/pandas.py:56: FutureWarning: The pandas.core.datetools module is deprecated and will be removed in a future version. Please use the pandas.tseries module instead.\n",
      "  from pandas.core import datetools\n"
     ]
    },
    {
     "name": "stdout",
     "output_type": "stream",
     "text": [
      "(370, 9)\n",
      "(370, 3)\n"
     ]
    }
   ],
   "source": [
    "import statsmodels.api as sm\n",
    "import numpy as np\n",
    "import pandas as pd\n",
    "BIGMERGE = pd.read_csv('iowa_gist.csv', index_col='Unnamed: 0')\n",
    "# For our target we add up all the sales by city\n",
    "citytarget = BIGMERGE.groupby('City', as_index=False)['Sale (Dollars)'].sum()\n",
    "# And we divide that by that average number of stores in the city each month\n",
    "citytarget['Sales per Store'] = citytarget['Sale (Dollars)']/BIGMERGE.groupby('City', as_index=False)['Monthly Stores in City'].mean()['Monthly Stores in City']\n",
    "# Features are similar.  We take the average population per store and number of stores in city over the time period.\n",
    "features = BIGMERGE.groupby('City', as_index=False)['Pop per Store', 'Monthly Stores in City'].mean()\n",
    "# And then we tack on the average store sales for Jan, Feb, and Mar.\n",
    "features = pd.merge(features, BIGMERGE[(BIGMERGE['Year']==2015) & (BIGMERGE['Month']==1)].groupby('City', as_index=False)[['Sale (Dollars)', 'Volume Sold (Liters)']].mean(), how='left', on='City')\n",
    "features = pd.merge(features, BIGMERGE[(BIGMERGE['Year']==2015) & (BIGMERGE['Month']==2)].groupby('City', as_index=False)[['Sale (Dollars)', 'Volume Sold (Liters)']].mean(), how='left', on='City')\n",
    "features = pd.merge(features, BIGMERGE[(BIGMERGE['Year']==2015) & (BIGMERGE['Month']==3)].groupby('City', as_index=False)[['Sale (Dollars)', 'Volume Sold (Liters)']].mean(), how='left', on='City')\n",
    "# Plus we rename the columns so we know what's what.\n",
    "features.columns = ['City', 'Pop per Store', 'Monthly Stores in City', 'Jan_2015_Sales', 'Jan_2015_Volume_Sold(L)', 'Feb_2015_Sales', 'Feb_2015_Volume_Sold(L)', 'Mar_2015_Sales', 'Mar_2015_Volume_Sold(L)']\n",
    "# Now some cities did not have sales in certain months so we make those 0\n",
    "features = features.fillna(0)\n",
    "features = features.drop(345, 0)\n",
    "citytarget = citytarget.drop(345, 0)\n",
    "# Double check that we are dealing with similar beasts\n",
    "print(features.shape)\n",
    "print(citytarget.shape)\n"
   ]
  },
  {
   "cell_type": "code",
   "execution_count": 2,
   "metadata": {},
   "outputs": [
    {
     "name": "stdout",
     "output_type": "stream",
     "text": [
      "Cross-validated scores: [ 0.89482198  0.96704247  0.89041896  0.95167318  0.87437414  0.89392091\n",
      "  0.929572    0.72461263  0.99003965  0.89586032]\n",
      "Average:  0.901233623811\n"
     ]
    }
   ],
   "source": [
    "from sklearn.model_selection import train_test_split\n",
    "from sklearn import linear_model\n",
    "from sklearn.model_selection import cross_val_score, cross_val_predict\n",
    "import matplotlib.pyplot as plt\n",
    "from sklearn import metrics\n",
    "# First, we need to split our data up into training data for the model and testing data to see how our model does\n",
    "# We'll come back to the test data at the end when we're convinced our model is solid\n",
    "X_train, X_test, y_train, y_test = train_test_split(features.drop(['City'], 1).fillna(0), citytarget.drop(['City', 'Sale (Dollars)'],1), test_size=0.3, random_state=10)\n",
    "# This builds a linear regression model\n",
    "# Then uses cross validation to check training data against itself and estimate our score\n",
    "lm = linear_model.LinearRegression()\n",
    "model = lm.fit(X_train, y_train)\n",
    "scores = cross_val_score(model, X_train, y_train, cv=10)\n",
    "# Here you can see the R^2 scores from each slice of data\n",
    "print(\"Cross-validated scores:\", scores)\n",
    "print(\"Average: \", scores.mean())\n",
    "# Our average is the best predictor that our model is not going to be overfit to our training data (which could lead to bad predictions)\n",
    "\n"
   ]
  },
  {
   "cell_type": "code",
   "execution_count": 3,
   "metadata": {},
   "outputs": [
    {
     "name": "stdout",
     "output_type": "stream",
     "text": [
      "Cross-Predicted Accuracy: 0.91776189097\n",
      "Root Mean Squared Error:  41694.2770374\n"
     ]
    },
    {
     "data": {
      "image/png": "[encoded data removed]",
      "text/plain": [
       "<matplotlib.figure.Figure at 0x1066c6fd0>"
      ]
     },
     "metadata": {},
     "output_type": "display_data"
    }
   ],
   "source": [
    "# Finally, we look at the predictions our model made verses the actual values\n",
    "predictions = cross_val_predict(model, X_train, y_train, cv=10)\n",
    "plt.scatter(y_train, predictions)\n",
    "accuracy = metrics.r2_score(y_train, predictions)\n",
    "print(\"Cross-Predicted Accuracy:\", accuracy)\n",
    "print(\"Root Mean Squared Error: \", np.sqrt(metrics.mean_squared_error(y_train, predictions)))\n",
    "plt.show()\n"
   ]
  },
  {
   "cell_type": "code",
   "execution_count": 4,
   "metadata": {},
   "outputs": [
    {
     "name": "stdout",
     "output_type": "stream",
     "text": [
      "185.118346587\n",
      "[ 11.57415272   0.           7.78643163   0.           2.62466326\n",
      "  14.5372232    2.28729775   0.        ]\n",
      "Root Mean Squared Error:  34863.6231039\n",
      "Pop per Store 11.5741520154\n",
      "Monthly Stores in City 0.0\n",
      "Jan_2015_Sales 7.78643161459\n",
      "Jan_2015_Volume_Sold(L) 0.0\n",
      "Feb_2015_Sales 2.62466328087\n",
      "Feb_2015_Volume_Sold(L) 14.5372229098\n",
      "Mar_2015_Sales 2.28729770455\n",
      "Mar_2015_Volume_Sold(L) 0.0\n"
     ]
    }
   ],
   "source": [
    "from sklearn.linear_model import LassoCV\n",
    "from sklearn.linear_model import Lasso\n",
    "# Basically Lasso uses some number (alpha) we decide to push variables \n",
    "# coefficients as low as they can go while reducing our error.  \n",
    "# It finds a happy medium and tells us which variabls are actually relevant.\n",
    "lassoregcv = LassoCV(n_alphas=10, normalize=True, random_state=1)\n",
    "lassoregcv.fit(X_train, y_train.values.ravel())\n",
    "print(lassoregcv.alpha_)\n",
    "# This tests 10 different numbers alpha and gives us the best\n",
    "\n",
    "# Looks like 185.1183 is the magic number\n",
    "lassoreg = Lasso(alpha=185.1183, normalize=True)\n",
    "lassoreg.fit(X_train, y_train)\n",
    "print(lassoreg.coef_)\n",
    "# You can see three variables are not zero which means that\n",
    "# they just weren't contributing\n",
    "\n",
    "# Let's see how it affects our error.\n",
    "y_pred = lassoreg.predict(X_train)\n",
    "print(\"Root Mean Squared Error: \", np.sqrt(metrics.mean_squared_error(y_train, y_pred)))\n",
    "# Sweet, knocked 6k off it!\n",
    "\n",
    "# Finally, we check to see which variables Lasso decided weren't needed\n",
    "for i, f in enumerate(features.drop(['City'], 1).columns):\n",
    "    print(f, lassoregcv.coef_[i])\n"
   ]
  },
  {
   "cell_type": "code",
   "execution_count": 10,
   "metadata": {},
   "outputs": [
    {
     "name": "stdout",
     "output_type": "stream",
     "text": [
      "Cross-validated scores: [ 0.89722188  0.9665541   0.8920959   0.94729893  0.88023252  0.89603156\n",
      "  0.94440607  0.86460074  0.99299377  0.89533602]\n",
      "Average:  0.917677149029\n",
      "Cross-Predicted Accuracy: 0.931962096535\n",
      "Root Mean Squared Error:  34863.6231039\n"
     ]
    },
    {
     "data": {
      "image/png": "[encoded data removed]",
      "text/plain": [
       "<matplotlib.figure.Figure at 0x10c197f28>"
      ]
     },
     "metadata": {},
     "output_type": "display_data"
    }
   ],
   "source": [
    "# Send in the training data, but drop those columns identified from Lasso regularization\n",
    "X = X_train.drop(['Monthly Stores in City', 'Jan_2015_Volume_Sold(L)', 'Feb_2015_Volume_Sold(L)', 'Mar_2015_Volume_Sold(L)'], 1)\n",
    "y = y_train\n",
    "X = sm.add_constant(X) \n",
    "model = lm.fit(X, y)\n",
    "scores = cross_val_score(model, X, y, cv=10)\n",
    "print(\"Cross-validated scores:\", scores)\n",
    "print(\"Average: \", scores.mean())\n",
    "\n",
    "predictions = cross_val_predict(model, X, y, cv=10)\n",
    "plt.scatter(y, predictions)\n",
    "accuracy = metrics.r2_score(y, predictions)\n",
    "print(\"Cross-Predicted Accuracy:\", accuracy)\n",
    "print('Root Mean Squared Error: ', np.sqrt(metrics.mean_squared_error(y, y_pred)))\n",
    "# Bingo!  We upped the accuracy and reduced the error!\n",
    "plt.show()\n"
   ]
  },
  {
   "cell_type": "code",
   "execution_count": 9,
   "metadata": {},
   "outputs": [
    {
     "name": "stdout",
     "output_type": "stream",
     "text": [
      "Accuracy: 0.915939400298\n",
      "Root Mean Squared Error:  29651.3639706\n"
     ]
    },
    {
     "data": {
      "image/png": "[encoded data removed]",
      "text/plain": [
       "<matplotlib.figure.Figure at 0x116923f28>"
      ]
     },
     "metadata": {},
     "output_type": "display_data"
    }
   ],
   "source": [
    "# We grab the test data from earlier and drop the now unwanted columns\n",
    "X2 = X_test.drop(['Monthly Stores in City', 'Jan_2015_Volume_Sold(L)', 'Feb_2015_Volume_Sold(L)', 'Mar_2015_Volume_Sold(L)'], 1)\n",
    "# Add a constant for the y-intercept (baseline if all X's are zero)\n",
    "X2 = sm.add_constant(X2) \n",
    "# Make our predictions\n",
    "predictions = lm.predict(X2)\n",
    "# Then plot them on the graph\n",
    "plt.scatter(y_test, predictions)\n",
    "plt.xlabel(\"True Values\")\n",
    "plt.ylabel(\"Predictions\")\n",
    "print(\"Accuracy:\", model.score(X2, y_test))\n",
    "print('Root Mean Squared Error: ', np.sqrt(metrics.mean_squared_error(y_test, predictions)))\n",
    "plt.show()\n"
   ]
  },
  {
   "cell_type": "code",
   "execution_count": null,
   "metadata": {
    "collapsed": true
   },
   "outputs": [],
   "source": []
  }
 ],
 "metadata": {
  "kernelspec": {
   "display_name": "Python 3",
   "language": "python",
   "name": "python3"
  },
  "language_info": {
   "codemirror_mode": {
    "name": "ipython",
    "version": 3
   },
   "file_extension": ".py",
   "mimetype": "text/x-python",
   "name": "python",
   "nbconvert_exporter": "python",
   "pygments_lexer": "ipython3",
   "version": "3.6.2"
  }
 },
 "nbformat": 4,
 "nbformat_minor": 2
}
