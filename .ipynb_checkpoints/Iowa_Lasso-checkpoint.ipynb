{
 "cells": [
  {
   "cell_type": "code",
   "execution_count": 27,
   "metadata": {},
   "outputs": [
    {
     "data": {
      "text/plain": [
       "185.11834658734836"
      ]
     },
     "execution_count": 27,
     "metadata": {},
     "output_type": "execute_result"
    }
   ],
   "source": [
    "# Basically Lasso uses some number (alpha) we decide to push variables \n",
    "# coefficients as low as they can go while reducing our error.  \n",
    "# It finds a happy medium and tells us which variabls are actually relevant.\n",
    "lassoregcv = LassoCV(n_alphas=10, normalize=True, random_state=1)\n",
    "lassoregcv.fit(X_train, y_train.values.ravel())\n",
    "lassoregcv.alpha_\n",
    "# This tests 10 different numbers alpha and gives us the best"
   ]
  },
  {
   "cell_type": "code",
   "execution_count": 41,
   "metadata": {},
   "outputs": [
    {
     "name": "stdout",
     "output_type": "stream",
     "text": [
      "[ 11.57415272   0.           7.78643163   0.           2.62466326\n",
      "  14.5372232    2.28729775   0.        ]\n"
     ]
    }
   ],
   "source": [
    "# Looks like 185.1183 is the magic number\n",
    "lassoreg = Lasso(alpha=185.1183, normalize=True)\n",
    "lassoreg.fit(X_train, y_train)\n",
    "print(lassoreg.coef_)\n",
    "# You can see three variables are not zero which means that\n",
    "# they just weren't contributing"
   ]
  },
  {
   "cell_type": "code",
   "execution_count": 42,
   "metadata": {},
   "outputs": [
    {
     "name": "stdout",
     "output_type": "stream",
     "text": [
      "Root Mean Squared Error:  34863.6231039\n"
     ]
    }
   ],
   "source": [
    "# Let's see how it affects our error.\n",
    "y_pred = lassoreg.predict(X_train)\n",
    "print(\"Root Mean Squared Error: \", np.sqrt(metrics.mean_squared_error(y_train, y_pred)))\n",
    "# Sweet, knocked 6k off it!"
   ]
  },
  {
   "cell_type": "code",
   "execution_count": 44,
   "metadata": {},
   "outputs": [
    {
     "name": "stdout",
     "output_type": "stream",
     "text": [
      "Pop per Store 11.5741520154\n",
      "Monthly Stores in City 0.0\n",
      "Jan_2015_Sales 7.78643161459\n",
      "Jan_2015_Volume_Sold(L) 0.0\n",
      "Feb_2015_Sales 2.62466328087\n",
      "Feb_2015_Volume_Sold(L) 14.5372229098\n",
      "Mar_2015_Sales 2.28729770455\n",
      "Mar_2015_Volume_Sold(L) 0.0\n"
     ]
    }
   ],
   "source": [
    "# Finally, we check to see which variables Lasso decided weren't needed\n",
    "for i, f in enumerate(features.drop(['City'], 1).columns):\n",
    "    print(f, lassoregcv.coef_[i])"
   ]
  }
 ],
 "metadata": {
  "kernelspec": {
   "display_name": "Python 3",
   "language": "python",
   "name": "python3"
  },
  "language_info": {
   "codemirror_mode": {
    "name": "ipython",
    "version": 3
   },
   "file_extension": ".py",
   "mimetype": "text/x-python",
   "name": "python",
   "nbconvert_exporter": "python",
   "pygments_lexer": "ipython3",
   "version": "3.6.2"
  }
 },
 "nbformat": 4,
 "nbformat_minor": 2
}
