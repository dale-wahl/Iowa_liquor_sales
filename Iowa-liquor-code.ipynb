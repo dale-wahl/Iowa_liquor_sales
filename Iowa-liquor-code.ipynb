{
 "cells": [
  {
   "cell_type": "markdown",
   "metadata": {},
   "source": [
    "\n",
    "# Iowa State Liquor Sales by Store\n",
    "\n",
    "Iowa happily provides information down to the transaction for liquor sales to stores accross the state: https://data.iowa.gov\n",
    "\n",
    "We are going to take a look at this data and see if we can come up with a model that is able to predict total yearly sales by store.  We'll use this to look at to see if we can find the best markets to open up a new shop."
   ]
  },
  {
   "cell_type": "code",
   "execution_count": 1,
   "metadata": {
    "collapsed": true
   },
   "outputs": [],
   "source": [
    "# Start with the simple stuff.\n",
    "import pandas as pd\n",
    "import numpy as np\n",
    "import seaborn as sns\n",
    "import matplotlib.pyplot as plt\n",
    "% matplotlib inline"
   ]
  },
  {
   "cell_type": "code",
   "execution_count": 2,
   "metadata": {},
   "outputs": [
    {
     "name": "stderr",
     "output_type": "stream",
     "text": [
      "/anaconda/lib/python3.6/site-packages/statsmodels/compat/pandas.py:56: FutureWarning: The pandas.core.datetools module is deprecated and will be removed in a future version. Please use the pandas.tseries module instead.\n",
      "  from pandas.core import datetools\n"
     ]
    }
   ],
   "source": [
    "# And my stats tools\n",
    "import statsmodels.api as sm\n",
    "from sklearn.model_selection import cross_val_score, cross_val_predict\n",
    "from sklearn import metrics\n",
    "from sklearn import linear_model\n",
    "from sklearn.linear_model import LassoCV\n",
    "from sklearn.linear_model import Lasso"
   ]
  },
  {
   "cell_type": "code",
   "execution_count": 3,
   "metadata": {},
   "outputs": [
    {
     "name": "stderr",
     "output_type": "stream",
     "text": [
      "/anaconda/lib/python3.6/site-packages/IPython/core/interactiveshell.py:2717: DtypeWarning: Columns (6,8,10) have mixed types. Specify dtype option on import or set low_memory=False.\n",
      "  interactivity=interactivity, compiler=compiler, result=result)\n"
     ]
    }
   ],
   "source": [
    "bigboy = pd.read_csv('/Users/dale/DSI/Datasets/Iowa/iowa_liquor_sales_proj_2.csv', na_filter=False)"
   ]
  },
  {
   "cell_type": "code",
   "execution_count": 4,
   "metadata": {},
   "outputs": [
    {
     "data": {
      "text/plain": [
       "Index(['Invoice/Item Number', 'Date', 'Store Number', 'Store Name', 'Address',\n",
       "       'City', 'Zip Code', 'Store Location', 'County Number', 'County',\n",
       "       'Category', 'Category Name', 'Vendor Number', 'Vendor Name',\n",
       "       'Item Number', 'Item Description', 'Pack', 'Bottle Volume (ml)',\n",
       "       'State Bottle Cost', 'State Bottle Retail', 'Bottles Sold',\n",
       "       'Sale (Dollars)', 'Volume Sold (Liters)', 'Volume Sold (Gallons)'],\n",
       "      dtype='object')"
      ]
     },
     "execution_count": 4,
     "metadata": {},
     "output_type": "execute_result"
    }
   ],
   "source": [
    "bigboy.columns"
   ]
  },
  {
   "cell_type": "code",
   "execution_count": 6,
   "metadata": {
    "collapsed": true
   },
   "outputs": [],
   "source": [
    "bigboy = bigboy.drop(['Invoice/Item Number', 'Store Name', 'Address', 'Store Location', 'Vendor Name', 'Pack'], 1)"
   ]
  },
  {
   "cell_type": "code",
   "execution_count": 7,
   "metadata": {},
   "outputs": [
    {
     "data": {
      "text/html": [
       "<div>\n",
       "<style>\n",
       "    .dataframe thead tr:only-child th {\n",
       "        text-align: right;\n",
       "    }\n",
       "\n",
       "    .dataframe thead th {\n",
       "        text-align: left;\n",
       "    }\n",
       "\n",
       "    .dataframe tbody tr th {\n",
       "        vertical-align: top;\n",
       "    }\n",
       "</style>\n",
       "<table border=\"1\" class=\"dataframe\">\n",
       "  <thead>\n",
       "    <tr style=\"text-align: right;\">\n",
       "      <th></th>\n",
       "      <th>Date</th>\n",
       "      <th>Store Number</th>\n",
       "      <th>City</th>\n",
       "      <th>Zip Code</th>\n",
       "      <th>County Number</th>\n",
       "      <th>County</th>\n",
       "      <th>Category</th>\n",
       "      <th>Category Name</th>\n",
       "      <th>Vendor Number</th>\n",
       "      <th>Item Number</th>\n",
       "      <th>Item Description</th>\n",
       "      <th>Bottle Volume (ml)</th>\n",
       "      <th>State Bottle Cost</th>\n",
       "      <th>State Bottle Retail</th>\n",
       "      <th>Bottles Sold</th>\n",
       "      <th>Sale (Dollars)</th>\n",
       "      <th>Volume Sold (Liters)</th>\n",
       "      <th>Volume Sold (Gallons)</th>\n",
       "    </tr>\n",
       "  </thead>\n",
       "  <tbody>\n",
       "    <tr>\n",
       "      <th>0</th>\n",
       "      <td>11/20/2015</td>\n",
       "      <td>2191</td>\n",
       "      <td>KEOKUK</td>\n",
       "      <td>52632</td>\n",
       "      <td>56</td>\n",
       "      <td>Lee</td>\n",
       "      <td></td>\n",
       "      <td></td>\n",
       "      <td>255</td>\n",
       "      <td>297</td>\n",
       "      <td>Templeton Rye w/Flask</td>\n",
       "      <td>750</td>\n",
       "      <td>$18.09</td>\n",
       "      <td>$27.14</td>\n",
       "      <td>6</td>\n",
       "      <td>$162.84</td>\n",
       "      <td>4.50</td>\n",
       "      <td>1.19</td>\n",
       "    </tr>\n",
       "    <tr>\n",
       "      <th>1</th>\n",
       "      <td>11/21/2015</td>\n",
       "      <td>2205</td>\n",
       "      <td>CLARINDA</td>\n",
       "      <td>51632</td>\n",
       "      <td>73</td>\n",
       "      <td>Page</td>\n",
       "      <td></td>\n",
       "      <td></td>\n",
       "      <td>255</td>\n",
       "      <td>297</td>\n",
       "      <td>Templeton Rye w/Flask</td>\n",
       "      <td>750</td>\n",
       "      <td>$18.09</td>\n",
       "      <td>$27.14</td>\n",
       "      <td>12</td>\n",
       "      <td>$325.68</td>\n",
       "      <td>9.00</td>\n",
       "      <td>2.38</td>\n",
       "    </tr>\n",
       "    <tr>\n",
       "      <th>2</th>\n",
       "      <td>11/16/2015</td>\n",
       "      <td>3549</td>\n",
       "      <td>FORT MADISON</td>\n",
       "      <td>52627</td>\n",
       "      <td>56</td>\n",
       "      <td>Lee</td>\n",
       "      <td></td>\n",
       "      <td></td>\n",
       "      <td>130</td>\n",
       "      <td>249</td>\n",
       "      <td>Disaronno Amaretto Cavalli Mignon 3-50ml Pack</td>\n",
       "      <td>150</td>\n",
       "      <td>$6.40</td>\n",
       "      <td>$9.60</td>\n",
       "      <td>2</td>\n",
       "      <td>$19.20</td>\n",
       "      <td>0.30</td>\n",
       "      <td>0.08</td>\n",
       "    </tr>\n",
       "    <tr>\n",
       "      <th>3</th>\n",
       "      <td>11/04/2015</td>\n",
       "      <td>2513</td>\n",
       "      <td>IOWA CITY</td>\n",
       "      <td>52240</td>\n",
       "      <td>52</td>\n",
       "      <td>Johnson</td>\n",
       "      <td></td>\n",
       "      <td></td>\n",
       "      <td>65</td>\n",
       "      <td>237</td>\n",
       "      <td>Knob Creek w/ Crystal Decanter</td>\n",
       "      <td>1750</td>\n",
       "      <td>$35.55</td>\n",
       "      <td>$53.34</td>\n",
       "      <td>3</td>\n",
       "      <td>$160.02</td>\n",
       "      <td>5.25</td>\n",
       "      <td>1.39</td>\n",
       "    </tr>\n",
       "    <tr>\n",
       "      <th>4</th>\n",
       "      <td>11/17/2015</td>\n",
       "      <td>3942</td>\n",
       "      <td>TOLEDO</td>\n",
       "      <td>52342</td>\n",
       "      <td>86</td>\n",
       "      <td>Tama</td>\n",
       "      <td></td>\n",
       "      <td></td>\n",
       "      <td>130</td>\n",
       "      <td>249</td>\n",
       "      <td>Disaronno Amaretto Cavalli Mignon 3-50ml Pack</td>\n",
       "      <td>150</td>\n",
       "      <td>$6.40</td>\n",
       "      <td>$9.60</td>\n",
       "      <td>2</td>\n",
       "      <td>$19.20</td>\n",
       "      <td>0.30</td>\n",
       "      <td>0.08</td>\n",
       "    </tr>\n",
       "  </tbody>\n",
       "</table>\n",
       "</div>"
      ],
      "text/plain": [
       "         Date  Store Number          City Zip Code County Number   County  \\\n",
       "0  11/20/2015          2191        KEOKUK    52632            56      Lee   \n",
       "1  11/21/2015          2205      CLARINDA    51632            73     Page   \n",
       "2  11/16/2015          3549  FORT MADISON    52627            56      Lee   \n",
       "3  11/04/2015          2513     IOWA CITY    52240            52  Johnson   \n",
       "4  11/17/2015          3942        TOLEDO    52342            86     Tama   \n",
       "\n",
       "  Category Category Name  Vendor Number  Item Number  \\\n",
       "0                                   255          297   \n",
       "1                                   255          297   \n",
       "2                                   130          249   \n",
       "3                                    65          237   \n",
       "4                                   130          249   \n",
       "\n",
       "                                Item Description  Bottle Volume (ml)  \\\n",
       "0                          Templeton Rye w/Flask                 750   \n",
       "1                          Templeton Rye w/Flask                 750   \n",
       "2  Disaronno Amaretto Cavalli Mignon 3-50ml Pack                 150   \n",
       "3                 Knob Creek w/ Crystal Decanter                1750   \n",
       "4  Disaronno Amaretto Cavalli Mignon 3-50ml Pack                 150   \n",
       "\n",
       "  State Bottle Cost State Bottle Retail  Bottles Sold Sale (Dollars)  \\\n",
       "0            $18.09              $27.14             6        $162.84   \n",
       "1            $18.09              $27.14            12        $325.68   \n",
       "2             $6.40               $9.60             2         $19.20   \n",
       "3            $35.55              $53.34             3        $160.02   \n",
       "4             $6.40               $9.60             2         $19.20   \n",
       "\n",
       "   Volume Sold (Liters)  Volume Sold (Gallons)  \n",
       "0                  4.50                   1.19  \n",
       "1                  9.00                   2.38  \n",
       "2                  0.30                   0.08  \n",
       "3                  5.25                   1.39  \n",
       "4                  0.30                   0.08  "
      ]
     },
     "execution_count": 7,
     "metadata": {},
     "output_type": "execute_result"
    }
   ],
   "source": [
    "bigboy.head()"
   ]
  },
  {
   "cell_type": "code",
   "execution_count": 8,
   "metadata": {
    "collapsed": true
   },
   "outputs": [],
   "source": [
    "bigboy[\"Date\"] = pd.to_datetime(bigboy[\"Date\"], infer_datetime_format=True)\n",
    "# Fix my date column"
   ]
  },
  {
   "cell_type": "code",
   "execution_count": 9,
   "metadata": {
    "collapsed": true
   },
   "outputs": [],
   "source": [
    "bigboy[\"Store Number\"] = bigboy[\"Store Number\"].astype('category')\n",
    "bigboy[\"City\"] = bigboy[\"City\"].astype('category')\n",
    "bigboy[\"Zip Code\"] = bigboy[\"Zip Code\"].astype('category')\n",
    "bigboy[\"County Number\"] = bigboy[\"County Number\"].astype('category')\n",
    "bigboy[\"County\"] = bigboy[\"County\"].astype('category')\n",
    "bigboy[\"Category\"] = bigboy[\"Category\"].astype('category')\n",
    "bigboy[\"Category Name\"] = bigboy[\"Category Name\"].astype('category')\n",
    "bigboy[\"Vendor Number\"] = bigboy[\"Vendor Number\"].astype('category')\n",
    "bigboy[\"Item Number\"] = bigboy[\"Item Number\"].astype('category')\n",
    "bigboy[\"Item Description\"] = bigboy[\"Item Description\"].astype('category')\n",
    "# Change category columns to dtype category"
   ]
  },
  {
   "cell_type": "code",
   "execution_count": 10,
   "metadata": {
    "collapsed": true
   },
   "outputs": [],
   "source": [
    "bigboy[\"State Bottle Cost\"] = bigboy[\"State Bottle Cost\"].apply(lambda x: x.strip('$')).astype(float)\n",
    "bigboy[\"State Bottle Retail\"] = bigboy[\"State Bottle Retail\"].apply(lambda x: x.strip('$')).astype(float)\n",
    "bigboy[\"Sale (Dollars)\"] = bigboy[\"Sale (Dollars)\"].apply(lambda x: x.strip('$')).astype(float)\n",
    "# Change dollar amounts to floats for calculations"
   ]
  },
  {
   "cell_type": "code",
   "execution_count": 11,
   "metadata": {
    "collapsed": true
   },
   "outputs": [],
   "source": [
    "bigboy[\"Year\"] = bigboy['Date'].dt.year\n",
    "bigboy['Month'] = bigboy['Date'].dt.month"
   ]
  },
  {
   "cell_type": "code",
   "execution_count": 12,
   "metadata": {
    "collapsed": true
   },
   "outputs": [],
   "source": [
    "# City name change GUTTENBURG to GUTTENBERG\n",
    "bigboy['City'] = bigboy['City'].str.replace('GUTTENBURG', 'GUTTENBERG')"
   ]
  },
  {
   "cell_type": "code",
   "execution_count": 13,
   "metadata": {},
   "outputs": [
    {
     "data": {
      "text/plain": [
       "Date                     datetime64[ns]\n",
       "Store Number                   category\n",
       "City                             object\n",
       "Zip Code                       category\n",
       "County Number                  category\n",
       "County                         category\n",
       "Category                       category\n",
       "Category Name                  category\n",
       "Vendor Number                  category\n",
       "Item Number                    category\n",
       "Item Description               category\n",
       "Bottle Volume (ml)                int64\n",
       "State Bottle Cost               float64\n",
       "State Bottle Retail             float64\n",
       "Bottles Sold                      int64\n",
       "Sale (Dollars)                  float64\n",
       "Volume Sold (Liters)            float64\n",
       "Volume Sold (Gallons)           float64\n",
       "Year                              int64\n",
       "Month                             int64\n",
       "dtype: object"
      ]
     },
     "execution_count": 13,
     "metadata": {},
     "output_type": "execute_result"
    }
   ],
   "source": [
    "bigboy.dtypes"
   ]
  },
  {
   "cell_type": "code",
   "execution_count": 14,
   "metadata": {},
   "outputs": [
    {
     "data": {
      "text/plain": [
       "(33672, 10)"
      ]
     },
     "execution_count": 14,
     "metadata": {},
     "output_type": "execute_result"
    }
   ],
   "source": [
    "new_df = bigboy.groupby(['Year', 'Month', 'Store Number'], as_index=False).sum()\n",
    "new_df.shape"
   ]
  },
  {
   "cell_type": "code",
   "execution_count": 15,
   "metadata": {
    "collapsed": true
   },
   "outputs": [],
   "source": [
    "add_cols = bigboy[['Store Number', 'City']].drop_duplicates()"
   ]
  },
  {
   "cell_type": "code",
   "execution_count": 16,
   "metadata": {
    "scrolled": true
   },
   "outputs": [
    {
     "data": {
      "text/plain": [
       "2106    24\n",
       "2205    24\n",
       "2228    24\n",
       "2113    24\n",
       "2130    24\n",
       "Name: Store Number, dtype: int64"
      ]
     },
     "execution_count": 16,
     "metadata": {},
     "output_type": "execute_result"
    }
   ],
   "source": [
    "new_df = pd.merge(new_df, add_cols, how='left', on='Store Number')\n",
    "new_df['Store Number'].value_counts().sort_values(ascending=False).head(5)\n",
    "# OK, all good now"
   ]
  },
  {
   "cell_type": "code",
   "execution_count": 17,
   "metadata": {},
   "outputs": [
    {
     "data": {
      "text/plain": [
       "(33672, 11)"
      ]
     },
     "execution_count": 17,
     "metadata": {},
     "output_type": "execute_result"
    }
   ],
   "source": [
    "new_df.shape"
   ]
  },
  {
   "cell_type": "code",
   "execution_count": 18,
   "metadata": {
    "collapsed": true
   },
   "outputs": [],
   "source": [
    "new_df = new_df.drop(['State Bottle Cost', 'State Bottle Retail'], axis=1)"
   ]
  },
  {
   "cell_type": "code",
   "execution_count": 19,
   "metadata": {
    "collapsed": true
   },
   "outputs": [],
   "source": [
    "add_cols = bigboy.groupby(['Year', 'Month', 'Store Number'], as_index=False)[['State Bottle Cost', 'State Bottle Retail']].mean()\n",
    "new_df = pd.merge(new_df, add_cols, how='left')"
   ]
  },
  {
   "cell_type": "code",
   "execution_count": 20,
   "metadata": {
    "collapsed": true
   },
   "outputs": [],
   "source": [
    "# Random lowercases\n",
    "new_df['City'] = new_df['City'].str.upper()\n",
    "# MT needs to match MOUNT\n",
    "new_df['City'] = new_df['City'].apply(lambda x: x.replace('MT', 'MOUNT'))\n",
    "# OTTUWMA is misspelled and should be OTTUMWA\n",
    "new_df['City'] = new_df['City'].apply(lambda x: x.replace('OTTUWMA', 'OTTUMWA'))\n",
    "# LEMARS to match LE MARS\n",
    "new_df['City'] = new_df['City'].apply(lambda x: x.replace('LEMARS', 'LE MARS'))\n",
    "# DEWITT to match DE WITT\n",
    "new_df['City'] = new_df['City'].apply(lambda x: x.replace('DEWITT', 'DE WITT'))\n",
    "# KELLOG to match KELLOGG\n",
    "new_df['City'] = new_df['City'].apply(lambda x: x.replace('KELLOG', 'KELLOGG'))\n",
    "new_df['City'] = new_df['City'].apply(lambda x: x.replace('KELLOGGG', 'KELLOGG'))\n",
    "# JEWELL to match JEWELL JUNCTION\n",
    "new_df['City'] = new_df['City'].apply(lambda x: x.replace('JEWELL', 'JEWELL JUNCTION'))\n",
    "# LECLAIRE to match LE CLAIRE\n",
    "new_df['City'] = new_df['City'].apply(lambda x: x.replace('LECLAIRE', 'LE CLAIRE'))\n",
    "# ARNOLD'S PARK to match ARNOLDS PARK\n",
    "new_df['City'] = new_df['City'].apply(lambda x: x.replace(\"ARNOLD'S PARK\", 'ARNOLDS PARK'))"
   ]
  },
  {
   "cell_type": "code",
   "execution_count": 21,
   "metadata": {},
   "outputs": [
    {
     "data": {
      "text/plain": [
       "(33672, 11)"
      ]
     },
     "execution_count": 21,
     "metadata": {},
     "output_type": "execute_result"
    }
   ],
   "source": [
    "new_df.shape"
   ]
  },
  {
   "cell_type": "code",
   "execution_count": 22,
   "metadata": {},
   "outputs": [
    {
     "data": {
      "text/plain": [
       "Year  Month\n",
       "2015  1        18498508.31\n",
       "      2        21224352.41\n",
       "      3        23262369.71\n",
       "      4        22857263.33\n",
       "      5        22437370.96\n",
       "      6        27089683.13\n",
       "      7        22414165.50\n",
       "      8        22116397.55\n",
       "      9        24113360.17\n",
       "      10       25913248.07\n",
       "      11       23718715.06\n",
       "      12       30683137.91\n",
       "2016  1        19018055.36\n",
       "      2        22801842.48\n",
       "      3        23706446.34\n",
       "      4                NaN\n",
       "      5                NaN\n",
       "      6                NaN\n",
       "      7                NaN\n",
       "      8                NaN\n",
       "      9                NaN\n",
       "      10               NaN\n",
       "      11               NaN\n",
       "      12               NaN\n",
       "Name: Sale (Dollars), dtype: float64"
      ]
     },
     "execution_count": 22,
     "metadata": {},
     "output_type": "execute_result"
    }
   ],
   "source": [
    "new_df.groupby(('Year', 'Month'))['Sale (Dollars)'].sum()"
   ]
  },
  {
   "cell_type": "markdown",
   "metadata": {},
   "source": [
    "## Let's load in population data\n",
    "\n",
    "Data obtained from https://www.census.gov/."
   ]
  },
  {
   "cell_type": "code",
   "execution_count": 24,
   "metadata": {
    "collapsed": true
   },
   "outputs": [],
   "source": [
    "# Load up the population data\n",
    "pop_data = pd.read_csv('/Users/dale/DSI/Datasets/Iowa/PEP_2016_PEPANNRES.csv', header=1)"
   ]
  },
  {
   "cell_type": "code",
   "execution_count": 25,
   "metadata": {
    "collapsed": true
   },
   "outputs": [],
   "source": [
    "# Make city names comprable to cities in our liquor dataset.\n",
    "pop_data['Geography'] = pop_data['Geography'].apply(lambda x: x.replace(' city, Iowa', '').upper())\n",
    "# Mad props to Chris Messier!  I was using rstrip and it was running amuk in my data."
   ]
  },
  {
   "cell_type": "code",
   "execution_count": 26,
   "metadata": {
    "collapsed": true
   },
   "outputs": [],
   "source": [
    "# We'll take a look at the actual data from 2010, but likely use their estimates for 2015 and 2016.\n",
    "pop_add = pop_data[['Geography', 'April 1, 2010 - Census', 'Population Estimate (as of July 1) - 2015', 'Population Estimate (as of July 1) - 2016']]\n",
    "# Rename columns for ease of use.\n",
    "pop_add.columns = ['City', '2010_pop', '2015_pop_est', '2016_pop_est']"
   ]
  },
  {
   "cell_type": "code",
   "execution_count": 27,
   "metadata": {},
   "outputs": [
    {
     "name": "stderr",
     "output_type": "stream",
     "text": [
      "/anaconda/lib/python3.6/site-packages/ipykernel_launcher.py:2: SettingWithCopyWarning: \n",
      "A value is trying to be set on a copy of a slice from a DataFrame.\n",
      "Try using .loc[row_indexer,col_indexer] = value instead\n",
      "\n",
      "See the caveats in the documentation: http://pandas.pydata.org/pandas-docs/stable/indexing.html#indexing-view-versus-copy\n",
      "  \n"
     ]
    }
   ],
   "source": [
    "# ST needs to match ST.\n",
    "pop_add['City'] = pop_add['City'].apply(lambda x: x.replace('.', ''))"
   ]
  },
  {
   "cell_type": "code",
   "execution_count": 31,
   "metadata": {},
   "outputs": [
    {
     "data": {
      "text/plain": [
       "array(['WASHBURN'], dtype=object)"
      ]
     },
     "execution_count": 31,
     "metadata": {},
     "output_type": "execute_result"
    }
   ],
   "source": [
    "# The big merge\n",
    "BIGMERGE = pd.merge(new_df, pop_add, how='left', on='City')\n",
    "# And a look-through to see what didn't connect.\n",
    "BIGMERGE[(BIGMERGE['2010_pop'].isnull() == True) & (BIGMERGE['Bottle Volume (ml)'].isnull() != True)]['City'].unique()\n",
    "# Bam.  Just missing tiny little unincorporated Washburn."
   ]
  },
  {
   "cell_type": "code",
   "execution_count": 32,
   "metadata": {
    "collapsed": true
   },
   "outputs": [],
   "source": [
    "pps = BIGMERGE.groupby(['Year', 'Month', 'City'], as_index=False)['Store Number'].count()"
   ]
  },
  {
   "cell_type": "code",
   "execution_count": 33,
   "metadata": {
    "scrolled": true
   },
   "outputs": [],
   "source": [
    "pps.columns = ['Year', 'Month', 'City', 'Monthly Stores in City']\n",
    "pps = pd.merge(pps, pop_add, how='left', on='City')"
   ]
  },
  {
   "cell_type": "code",
   "execution_count": 34,
   "metadata": {
    "collapsed": true
   },
   "outputs": [],
   "source": [
    "pps['Pop per Store'] = pps['2015_pop_est']/pps['Monthly Stores in City']"
   ]
  },
  {
   "cell_type": "code",
   "execution_count": 35,
   "metadata": {
    "scrolled": true
   },
   "outputs": [
    {
     "data": {
      "text/html": [
       "<div>\n",
       "<style>\n",
       "    .dataframe thead tr:only-child th {\n",
       "        text-align: right;\n",
       "    }\n",
       "\n",
       "    .dataframe thead th {\n",
       "        text-align: left;\n",
       "    }\n",
       "\n",
       "    .dataframe tbody tr th {\n",
       "        vertical-align: top;\n",
       "    }\n",
       "</style>\n",
       "<table border=\"1\" class=\"dataframe\">\n",
       "  <thead>\n",
       "    <tr style=\"text-align: right;\">\n",
       "      <th></th>\n",
       "      <th>Year</th>\n",
       "      <th>Month</th>\n",
       "      <th>Store Number</th>\n",
       "      <th>Bottle Volume (ml)</th>\n",
       "      <th>Bottles Sold</th>\n",
       "      <th>Sale (Dollars)</th>\n",
       "      <th>Volume Sold (Liters)</th>\n",
       "      <th>Volume Sold (Gallons)</th>\n",
       "      <th>City</th>\n",
       "      <th>State Bottle Cost</th>\n",
       "      <th>State Bottle Retail</th>\n",
       "      <th>2010_pop</th>\n",
       "      <th>2015_pop_est</th>\n",
       "      <th>2016_pop_est</th>\n",
       "      <th>merge</th>\n",
       "      <th>Monthly Stores in City</th>\n",
       "      <th>Pop per Store</th>\n",
       "    </tr>\n",
       "  </thead>\n",
       "  <tbody>\n",
       "    <tr>\n",
       "      <th>0</th>\n",
       "      <td>2015</td>\n",
       "      <td>1</td>\n",
       "      <td>2106</td>\n",
       "      <td>354975.0</td>\n",
       "      <td>7580.0</td>\n",
       "      <td>109795.48</td>\n",
       "      <td>7116.85</td>\n",
       "      <td>1880.39</td>\n",
       "      <td>CEDAR FALLS</td>\n",
       "      <td>10.910821</td>\n",
       "      <td>16.373538</td>\n",
       "      <td>39260.0</td>\n",
       "      <td>41345.0</td>\n",
       "      <td>41390.0</td>\n",
       "      <td>20151CEDAR FALLS</td>\n",
       "      <td>17</td>\n",
       "      <td>2432.058824</td>\n",
       "    </tr>\n",
       "    <tr>\n",
       "      <th>1</th>\n",
       "      <td>2015</td>\n",
       "      <td>1</td>\n",
       "      <td>2113</td>\n",
       "      <td>116750.0</td>\n",
       "      <td>571.0</td>\n",
       "      <td>7685.86</td>\n",
       "      <td>566.74</td>\n",
       "      <td>149.68</td>\n",
       "      <td>GOWRIE</td>\n",
       "      <td>10.519421</td>\n",
       "      <td>15.791818</td>\n",
       "      <td>1037.0</td>\n",
       "      <td>989.0</td>\n",
       "      <td>981.0</td>\n",
       "      <td>20151GOWRIE</td>\n",
       "      <td>2</td>\n",
       "      <td>494.500000</td>\n",
       "    </tr>\n",
       "    <tr>\n",
       "      <th>2</th>\n",
       "      <td>2015</td>\n",
       "      <td>1</td>\n",
       "      <td>2130</td>\n",
       "      <td>279925.0</td>\n",
       "      <td>4831.0</td>\n",
       "      <td>71307.51</td>\n",
       "      <td>4338.05</td>\n",
       "      <td>1146.09</td>\n",
       "      <td>WATERLOO</td>\n",
       "      <td>10.685786</td>\n",
       "      <td>16.030669</td>\n",
       "      <td>68406.0</td>\n",
       "      <td>68414.0</td>\n",
       "      <td>67934.0</td>\n",
       "      <td>20151WATERLOO</td>\n",
       "      <td>46</td>\n",
       "      <td>1487.260870</td>\n",
       "    </tr>\n",
       "    <tr>\n",
       "      <th>3</th>\n",
       "      <td>2015</td>\n",
       "      <td>1</td>\n",
       "      <td>2152</td>\n",
       "      <td>123500.0</td>\n",
       "      <td>477.0</td>\n",
       "      <td>5746.27</td>\n",
       "      <td>484.86</td>\n",
       "      <td>128.07</td>\n",
       "      <td>ROCKWELL</td>\n",
       "      <td>8.849407</td>\n",
       "      <td>13.290678</td>\n",
       "      <td>1039.0</td>\n",
       "      <td>1011.0</td>\n",
       "      <td>1012.0</td>\n",
       "      <td>20151ROCKWELL</td>\n",
       "      <td>2</td>\n",
       "      <td>505.500000</td>\n",
       "    </tr>\n",
       "    <tr>\n",
       "      <th>4</th>\n",
       "      <td>2015</td>\n",
       "      <td>1</td>\n",
       "      <td>2178</td>\n",
       "      <td>183425.0</td>\n",
       "      <td>1500.0</td>\n",
       "      <td>17970.36</td>\n",
       "      <td>1454.70</td>\n",
       "      <td>384.29</td>\n",
       "      <td>WAUKON</td>\n",
       "      <td>9.507184</td>\n",
       "      <td>14.292989</td>\n",
       "      <td>3897.0</td>\n",
       "      <td>3743.0</td>\n",
       "      <td>3733.0</td>\n",
       "      <td>20151WAUKON</td>\n",
       "      <td>3</td>\n",
       "      <td>1247.666667</td>\n",
       "    </tr>\n",
       "  </tbody>\n",
       "</table>\n",
       "</div>"
      ],
      "text/plain": [
       "   Year  Month Store Number  Bottle Volume (ml)  Bottles Sold  Sale (Dollars)  \\\n",
       "0  2015      1         2106            354975.0        7580.0       109795.48   \n",
       "1  2015      1         2113            116750.0         571.0         7685.86   \n",
       "2  2015      1         2130            279925.0        4831.0        71307.51   \n",
       "3  2015      1         2152            123500.0         477.0         5746.27   \n",
       "4  2015      1         2178            183425.0        1500.0        17970.36   \n",
       "\n",
       "   Volume Sold (Liters)  Volume Sold (Gallons)         City  \\\n",
       "0               7116.85                1880.39  CEDAR FALLS   \n",
       "1                566.74                 149.68       GOWRIE   \n",
       "2               4338.05                1146.09     WATERLOO   \n",
       "3                484.86                 128.07     ROCKWELL   \n",
       "4               1454.70                 384.29       WAUKON   \n",
       "\n",
       "   State Bottle Cost  State Bottle Retail  2010_pop  2015_pop_est  \\\n",
       "0          10.910821            16.373538   39260.0       41345.0   \n",
       "1          10.519421            15.791818    1037.0         989.0   \n",
       "2          10.685786            16.030669   68406.0       68414.0   \n",
       "3           8.849407            13.290678    1039.0        1011.0   \n",
       "4           9.507184            14.292989    3897.0        3743.0   \n",
       "\n",
       "   2016_pop_est             merge  Monthly Stores in City  Pop per Store  \n",
       "0       41390.0  20151CEDAR FALLS                      17    2432.058824  \n",
       "1         981.0       20151GOWRIE                       2     494.500000  \n",
       "2       67934.0     20151WATERLOO                      46    1487.260870  \n",
       "3        1012.0     20151ROCKWELL                       2     505.500000  \n",
       "4        3733.0       20151WAUKON                       3    1247.666667  "
      ]
     },
     "execution_count": 35,
     "metadata": {},
     "output_type": "execute_result"
    }
   ],
   "source": [
    "pps['merge'] = pps['Year'].astype(str) + pps['Month'].astype(str) + pps['City'].astype(str)\n",
    "BIGMERGE['merge'] = BIGMERGE['Year'].astype(str) + BIGMERGE['Month'].astype(str) + BIGMERGE['City'].astype(str)\n",
    "pps = pps.drop(['Year', 'Month','City','2010_pop','2015_pop_est','2016_pop_est'], 1)\n",
    "BIGMERGE = pd.merge(BIGMERGE, pps, how='left', on='merge')\n",
    "BIGMERGE.head()\n",
    "# HAHAHAHA, i can't believe that worked!"
   ]
  },
  {
   "cell_type": "code",
   "execution_count": 36,
   "metadata": {
    "scrolled": true
   },
   "outputs": [
    {
     "data": {
      "text/html": [
       "<div>\n",
       "<style>\n",
       "    .dataframe thead tr:only-child th {\n",
       "        text-align: right;\n",
       "    }\n",
       "\n",
       "    .dataframe thead th {\n",
       "        text-align: left;\n",
       "    }\n",
       "\n",
       "    .dataframe tbody tr th {\n",
       "        vertical-align: top;\n",
       "    }\n",
       "</style>\n",
       "<table border=\"1\" class=\"dataframe\">\n",
       "  <thead>\n",
       "    <tr style=\"text-align: right;\">\n",
       "      <th></th>\n",
       "      <th>Year</th>\n",
       "      <th>Month</th>\n",
       "      <th>Store Number</th>\n",
       "      <th>Bottle Volume (ml)</th>\n",
       "      <th>Bottles Sold</th>\n",
       "      <th>Sale (Dollars)</th>\n",
       "      <th>Volume Sold (Liters)</th>\n",
       "      <th>Volume Sold (Gallons)</th>\n",
       "      <th>City</th>\n",
       "      <th>State Bottle Cost</th>\n",
       "      <th>State Bottle Retail</th>\n",
       "      <th>2010_pop</th>\n",
       "      <th>2015_pop_est</th>\n",
       "      <th>2016_pop_est</th>\n",
       "      <th>merge</th>\n",
       "      <th>Monthly Stores in City</th>\n",
       "      <th>Pop per Store</th>\n",
       "    </tr>\n",
       "  </thead>\n",
       "  <tbody>\n",
       "    <tr>\n",
       "      <th>1153</th>\n",
       "      <td>2015</td>\n",
       "      <td>1</td>\n",
       "      <td>4980</td>\n",
       "      <td>7175.0</td>\n",
       "      <td>354.0</td>\n",
       "      <td>2101.56</td>\n",
       "      <td>154.35</td>\n",
       "      <td>40.78</td>\n",
       "      <td>WASHBURN</td>\n",
       "      <td>6.130769</td>\n",
       "      <td>9.197692</td>\n",
       "      <td>NaN</td>\n",
       "      <td>NaN</td>\n",
       "      <td>NaN</td>\n",
       "      <td>20151WASHBURN</td>\n",
       "      <td>1</td>\n",
       "      <td>NaN</td>\n",
       "    </tr>\n",
       "    <tr>\n",
       "      <th>2556</th>\n",
       "      <td>2015</td>\n",
       "      <td>2</td>\n",
       "      <td>4980</td>\n",
       "      <td>NaN</td>\n",
       "      <td>NaN</td>\n",
       "      <td>NaN</td>\n",
       "      <td>NaN</td>\n",
       "      <td>NaN</td>\n",
       "      <td>WASHBURN</td>\n",
       "      <td>NaN</td>\n",
       "      <td>NaN</td>\n",
       "      <td>NaN</td>\n",
       "      <td>NaN</td>\n",
       "      <td>NaN</td>\n",
       "      <td>20152WASHBURN</td>\n",
       "      <td>1</td>\n",
       "      <td>NaN</td>\n",
       "    </tr>\n",
       "    <tr>\n",
       "      <th>3959</th>\n",
       "      <td>2015</td>\n",
       "      <td>3</td>\n",
       "      <td>4980</td>\n",
       "      <td>16725.0</td>\n",
       "      <td>444.0</td>\n",
       "      <td>3476.16</td>\n",
       "      <td>222.30</td>\n",
       "      <td>58.76</td>\n",
       "      <td>WASHBURN</td>\n",
       "      <td>7.441481</td>\n",
       "      <td>11.164444</td>\n",
       "      <td>NaN</td>\n",
       "      <td>NaN</td>\n",
       "      <td>NaN</td>\n",
       "      <td>20153WASHBURN</td>\n",
       "      <td>1</td>\n",
       "      <td>NaN</td>\n",
       "    </tr>\n",
       "    <tr>\n",
       "      <th>5362</th>\n",
       "      <td>2015</td>\n",
       "      <td>4</td>\n",
       "      <td>4980</td>\n",
       "      <td>7150.0</td>\n",
       "      <td>192.0</td>\n",
       "      <td>1347.48</td>\n",
       "      <td>86.70</td>\n",
       "      <td>22.92</td>\n",
       "      <td>WASHBURN</td>\n",
       "      <td>6.531667</td>\n",
       "      <td>9.809167</td>\n",
       "      <td>NaN</td>\n",
       "      <td>NaN</td>\n",
       "      <td>NaN</td>\n",
       "      <td>20154WASHBURN</td>\n",
       "      <td>1</td>\n",
       "      <td>NaN</td>\n",
       "    </tr>\n",
       "    <tr>\n",
       "      <th>6765</th>\n",
       "      <td>2015</td>\n",
       "      <td>5</td>\n",
       "      <td>4980</td>\n",
       "      <td>6775.0</td>\n",
       "      <td>306.0</td>\n",
       "      <td>1800.78</td>\n",
       "      <td>141.30</td>\n",
       "      <td>37.34</td>\n",
       "      <td>WASHBURN</td>\n",
       "      <td>6.327273</td>\n",
       "      <td>9.493636</td>\n",
       "      <td>NaN</td>\n",
       "      <td>NaN</td>\n",
       "      <td>NaN</td>\n",
       "      <td>20155WASHBURN</td>\n",
       "      <td>1</td>\n",
       "      <td>NaN</td>\n",
       "    </tr>\n",
       "    <tr>\n",
       "      <th>8168</th>\n",
       "      <td>2015</td>\n",
       "      <td>6</td>\n",
       "      <td>4980</td>\n",
       "      <td>9375.0</td>\n",
       "      <td>192.0</td>\n",
       "      <td>2250.06</td>\n",
       "      <td>135.00</td>\n",
       "      <td>35.68</td>\n",
       "      <td>WASHBURN</td>\n",
       "      <td>10.360000</td>\n",
       "      <td>15.543077</td>\n",
       "      <td>NaN</td>\n",
       "      <td>NaN</td>\n",
       "      <td>NaN</td>\n",
       "      <td>20156WASHBURN</td>\n",
       "      <td>1</td>\n",
       "      <td>NaN</td>\n",
       "    </tr>\n",
       "    <tr>\n",
       "      <th>9571</th>\n",
       "      <td>2015</td>\n",
       "      <td>7</td>\n",
       "      <td>4980</td>\n",
       "      <td>6600.0</td>\n",
       "      <td>240.0</td>\n",
       "      <td>1431.96</td>\n",
       "      <td>127.20</td>\n",
       "      <td>33.63</td>\n",
       "      <td>WASHBURN</td>\n",
       "      <td>5.500000</td>\n",
       "      <td>8.342727</td>\n",
       "      <td>NaN</td>\n",
       "      <td>NaN</td>\n",
       "      <td>NaN</td>\n",
       "      <td>20157WASHBURN</td>\n",
       "      <td>1</td>\n",
       "      <td>NaN</td>\n",
       "    </tr>\n",
       "    <tr>\n",
       "      <th>10974</th>\n",
       "      <td>2015</td>\n",
       "      <td>8</td>\n",
       "      <td>4980</td>\n",
       "      <td>14100.0</td>\n",
       "      <td>600.0</td>\n",
       "      <td>4384.74</td>\n",
       "      <td>326.40</td>\n",
       "      <td>86.27</td>\n",
       "      <td>WASHBURN</td>\n",
       "      <td>7.760455</td>\n",
       "      <td>11.643182</td>\n",
       "      <td>NaN</td>\n",
       "      <td>NaN</td>\n",
       "      <td>NaN</td>\n",
       "      <td>20158WASHBURN</td>\n",
       "      <td>1</td>\n",
       "      <td>NaN</td>\n",
       "    </tr>\n",
       "    <tr>\n",
       "      <th>12377</th>\n",
       "      <td>2015</td>\n",
       "      <td>9</td>\n",
       "      <td>4980</td>\n",
       "      <td>3000.0</td>\n",
       "      <td>144.0</td>\n",
       "      <td>1039.68</td>\n",
       "      <td>108.00</td>\n",
       "      <td>28.54</td>\n",
       "      <td>WASHBURN</td>\n",
       "      <td>5.392500</td>\n",
       "      <td>8.090000</td>\n",
       "      <td>NaN</td>\n",
       "      <td>NaN</td>\n",
       "      <td>NaN</td>\n",
       "      <td>20159WASHBURN</td>\n",
       "      <td>1</td>\n",
       "      <td>NaN</td>\n",
       "    </tr>\n",
       "    <tr>\n",
       "      <th>13780</th>\n",
       "      <td>2015</td>\n",
       "      <td>10</td>\n",
       "      <td>4980</td>\n",
       "      <td>10150.0</td>\n",
       "      <td>348.0</td>\n",
       "      <td>2756.70</td>\n",
       "      <td>181.80</td>\n",
       "      <td>48.05</td>\n",
       "      <td>WASHBURN</td>\n",
       "      <td>9.075333</td>\n",
       "      <td>13.615333</td>\n",
       "      <td>NaN</td>\n",
       "      <td>NaN</td>\n",
       "      <td>NaN</td>\n",
       "      <td>201510WASHBURN</td>\n",
       "      <td>1</td>\n",
       "      <td>NaN</td>\n",
       "    </tr>\n",
       "    <tr>\n",
       "      <th>15183</th>\n",
       "      <td>2015</td>\n",
       "      <td>11</td>\n",
       "      <td>4980</td>\n",
       "      <td>5450.0</td>\n",
       "      <td>348.0</td>\n",
       "      <td>2376.36</td>\n",
       "      <td>234.60</td>\n",
       "      <td>61.99</td>\n",
       "      <td>WASHBURN</td>\n",
       "      <td>5.240000</td>\n",
       "      <td>7.862500</td>\n",
       "      <td>NaN</td>\n",
       "      <td>NaN</td>\n",
       "      <td>NaN</td>\n",
       "      <td>201511WASHBURN</td>\n",
       "      <td>1</td>\n",
       "      <td>NaN</td>\n",
       "    </tr>\n",
       "    <tr>\n",
       "      <th>16586</th>\n",
       "      <td>2015</td>\n",
       "      <td>12</td>\n",
       "      <td>4980</td>\n",
       "      <td>NaN</td>\n",
       "      <td>NaN</td>\n",
       "      <td>NaN</td>\n",
       "      <td>NaN</td>\n",
       "      <td>NaN</td>\n",
       "      <td>WASHBURN</td>\n",
       "      <td>NaN</td>\n",
       "      <td>NaN</td>\n",
       "      <td>NaN</td>\n",
       "      <td>NaN</td>\n",
       "      <td>NaN</td>\n",
       "      <td>201512WASHBURN</td>\n",
       "      <td>1</td>\n",
       "      <td>NaN</td>\n",
       "    </tr>\n",
       "    <tr>\n",
       "      <th>17989</th>\n",
       "      <td>2016</td>\n",
       "      <td>1</td>\n",
       "      <td>4980</td>\n",
       "      <td>12600.0</td>\n",
       "      <td>283.0</td>\n",
       "      <td>3183.90</td>\n",
       "      <td>180.00</td>\n",
       "      <td>47.59</td>\n",
       "      <td>WASHBURN</td>\n",
       "      <td>9.413000</td>\n",
       "      <td>14.122000</td>\n",
       "      <td>NaN</td>\n",
       "      <td>NaN</td>\n",
       "      <td>NaN</td>\n",
       "      <td>20161WASHBURN</td>\n",
       "      <td>1</td>\n",
       "      <td>NaN</td>\n",
       "    </tr>\n",
       "    <tr>\n",
       "      <th>19392</th>\n",
       "      <td>2016</td>\n",
       "      <td>2</td>\n",
       "      <td>4980</td>\n",
       "      <td>7375.0</td>\n",
       "      <td>210.0</td>\n",
       "      <td>1854.66</td>\n",
       "      <td>145.50</td>\n",
       "      <td>38.44</td>\n",
       "      <td>WASHBURN</td>\n",
       "      <td>6.688182</td>\n",
       "      <td>10.034545</td>\n",
       "      <td>NaN</td>\n",
       "      <td>NaN</td>\n",
       "      <td>NaN</td>\n",
       "      <td>20162WASHBURN</td>\n",
       "      <td>1</td>\n",
       "      <td>NaN</td>\n",
       "    </tr>\n",
       "    <tr>\n",
       "      <th>20795</th>\n",
       "      <td>2016</td>\n",
       "      <td>3</td>\n",
       "      <td>4980</td>\n",
       "      <td>6975.0</td>\n",
       "      <td>318.0</td>\n",
       "      <td>2039.88</td>\n",
       "      <td>150.30</td>\n",
       "      <td>39.74</td>\n",
       "      <td>WASHBURN</td>\n",
       "      <td>6.144167</td>\n",
       "      <td>9.218333</td>\n",
       "      <td>NaN</td>\n",
       "      <td>NaN</td>\n",
       "      <td>NaN</td>\n",
       "      <td>20163WASHBURN</td>\n",
       "      <td>1</td>\n",
       "      <td>NaN</td>\n",
       "    </tr>\n",
       "    <tr>\n",
       "      <th>22198</th>\n",
       "      <td>2016</td>\n",
       "      <td>4</td>\n",
       "      <td>4980</td>\n",
       "      <td>NaN</td>\n",
       "      <td>NaN</td>\n",
       "      <td>NaN</td>\n",
       "      <td>NaN</td>\n",
       "      <td>NaN</td>\n",
       "      <td>WASHBURN</td>\n",
       "      <td>NaN</td>\n",
       "      <td>NaN</td>\n",
       "      <td>NaN</td>\n",
       "      <td>NaN</td>\n",
       "      <td>NaN</td>\n",
       "      <td>20164WASHBURN</td>\n",
       "      <td>1</td>\n",
       "      <td>NaN</td>\n",
       "    </tr>\n",
       "    <tr>\n",
       "      <th>23601</th>\n",
       "      <td>2016</td>\n",
       "      <td>5</td>\n",
       "      <td>4980</td>\n",
       "      <td>NaN</td>\n",
       "      <td>NaN</td>\n",
       "      <td>NaN</td>\n",
       "      <td>NaN</td>\n",
       "      <td>NaN</td>\n",
       "      <td>WASHBURN</td>\n",
       "      <td>NaN</td>\n",
       "      <td>NaN</td>\n",
       "      <td>NaN</td>\n",
       "      <td>NaN</td>\n",
       "      <td>NaN</td>\n",
       "      <td>20165WASHBURN</td>\n",
       "      <td>1</td>\n",
       "      <td>NaN</td>\n",
       "    </tr>\n",
       "    <tr>\n",
       "      <th>25004</th>\n",
       "      <td>2016</td>\n",
       "      <td>6</td>\n",
       "      <td>4980</td>\n",
       "      <td>NaN</td>\n",
       "      <td>NaN</td>\n",
       "      <td>NaN</td>\n",
       "      <td>NaN</td>\n",
       "      <td>NaN</td>\n",
       "      <td>WASHBURN</td>\n",
       "      <td>NaN</td>\n",
       "      <td>NaN</td>\n",
       "      <td>NaN</td>\n",
       "      <td>NaN</td>\n",
       "      <td>NaN</td>\n",
       "      <td>20166WASHBURN</td>\n",
       "      <td>1</td>\n",
       "      <td>NaN</td>\n",
       "    </tr>\n",
       "    <tr>\n",
       "      <th>26407</th>\n",
       "      <td>2016</td>\n",
       "      <td>7</td>\n",
       "      <td>4980</td>\n",
       "      <td>NaN</td>\n",
       "      <td>NaN</td>\n",
       "      <td>NaN</td>\n",
       "      <td>NaN</td>\n",
       "      <td>NaN</td>\n",
       "      <td>WASHBURN</td>\n",
       "      <td>NaN</td>\n",
       "      <td>NaN</td>\n",
       "      <td>NaN</td>\n",
       "      <td>NaN</td>\n",
       "      <td>NaN</td>\n",
       "      <td>20167WASHBURN</td>\n",
       "      <td>1</td>\n",
       "      <td>NaN</td>\n",
       "    </tr>\n",
       "    <tr>\n",
       "      <th>27810</th>\n",
       "      <td>2016</td>\n",
       "      <td>8</td>\n",
       "      <td>4980</td>\n",
       "      <td>NaN</td>\n",
       "      <td>NaN</td>\n",
       "      <td>NaN</td>\n",
       "      <td>NaN</td>\n",
       "      <td>NaN</td>\n",
       "      <td>WASHBURN</td>\n",
       "      <td>NaN</td>\n",
       "      <td>NaN</td>\n",
       "      <td>NaN</td>\n",
       "      <td>NaN</td>\n",
       "      <td>NaN</td>\n",
       "      <td>20168WASHBURN</td>\n",
       "      <td>1</td>\n",
       "      <td>NaN</td>\n",
       "    </tr>\n",
       "    <tr>\n",
       "      <th>29213</th>\n",
       "      <td>2016</td>\n",
       "      <td>9</td>\n",
       "      <td>4980</td>\n",
       "      <td>NaN</td>\n",
       "      <td>NaN</td>\n",
       "      <td>NaN</td>\n",
       "      <td>NaN</td>\n",
       "      <td>NaN</td>\n",
       "      <td>WASHBURN</td>\n",
       "      <td>NaN</td>\n",
       "      <td>NaN</td>\n",
       "      <td>NaN</td>\n",
       "      <td>NaN</td>\n",
       "      <td>NaN</td>\n",
       "      <td>20169WASHBURN</td>\n",
       "      <td>1</td>\n",
       "      <td>NaN</td>\n",
       "    </tr>\n",
       "    <tr>\n",
       "      <th>30616</th>\n",
       "      <td>2016</td>\n",
       "      <td>10</td>\n",
       "      <td>4980</td>\n",
       "      <td>NaN</td>\n",
       "      <td>NaN</td>\n",
       "      <td>NaN</td>\n",
       "      <td>NaN</td>\n",
       "      <td>NaN</td>\n",
       "      <td>WASHBURN</td>\n",
       "      <td>NaN</td>\n",
       "      <td>NaN</td>\n",
       "      <td>NaN</td>\n",
       "      <td>NaN</td>\n",
       "      <td>NaN</td>\n",
       "      <td>201610WASHBURN</td>\n",
       "      <td>1</td>\n",
       "      <td>NaN</td>\n",
       "    </tr>\n",
       "    <tr>\n",
       "      <th>32019</th>\n",
       "      <td>2016</td>\n",
       "      <td>11</td>\n",
       "      <td>4980</td>\n",
       "      <td>NaN</td>\n",
       "      <td>NaN</td>\n",
       "      <td>NaN</td>\n",
       "      <td>NaN</td>\n",
       "      <td>NaN</td>\n",
       "      <td>WASHBURN</td>\n",
       "      <td>NaN</td>\n",
       "      <td>NaN</td>\n",
       "      <td>NaN</td>\n",
       "      <td>NaN</td>\n",
       "      <td>NaN</td>\n",
       "      <td>201611WASHBURN</td>\n",
       "      <td>1</td>\n",
       "      <td>NaN</td>\n",
       "    </tr>\n",
       "    <tr>\n",
       "      <th>33422</th>\n",
       "      <td>2016</td>\n",
       "      <td>12</td>\n",
       "      <td>4980</td>\n",
       "      <td>NaN</td>\n",
       "      <td>NaN</td>\n",
       "      <td>NaN</td>\n",
       "      <td>NaN</td>\n",
       "      <td>NaN</td>\n",
       "      <td>WASHBURN</td>\n",
       "      <td>NaN</td>\n",
       "      <td>NaN</td>\n",
       "      <td>NaN</td>\n",
       "      <td>NaN</td>\n",
       "      <td>NaN</td>\n",
       "      <td>201612WASHBURN</td>\n",
       "      <td>1</td>\n",
       "      <td>NaN</td>\n",
       "    </tr>\n",
       "  </tbody>\n",
       "</table>\n",
       "</div>"
      ],
      "text/plain": [
       "       Year  Month Store Number  Bottle Volume (ml)  Bottles Sold  \\\n",
       "1153   2015      1         4980              7175.0         354.0   \n",
       "2556   2015      2         4980                 NaN           NaN   \n",
       "3959   2015      3         4980             16725.0         444.0   \n",
       "5362   2015      4         4980              7150.0         192.0   \n",
       "6765   2015      5         4980              6775.0         306.0   \n",
       "8168   2015      6         4980              9375.0         192.0   \n",
       "9571   2015      7         4980              6600.0         240.0   \n",
       "10974  2015      8         4980             14100.0         600.0   \n",
       "12377  2015      9         4980              3000.0         144.0   \n",
       "13780  2015     10         4980             10150.0         348.0   \n",
       "15183  2015     11         4980              5450.0         348.0   \n",
       "16586  2015     12         4980                 NaN           NaN   \n",
       "17989  2016      1         4980             12600.0         283.0   \n",
       "19392  2016      2         4980              7375.0         210.0   \n",
       "20795  2016      3         4980              6975.0         318.0   \n",
       "22198  2016      4         4980                 NaN           NaN   \n",
       "23601  2016      5         4980                 NaN           NaN   \n",
       "25004  2016      6         4980                 NaN           NaN   \n",
       "26407  2016      7         4980                 NaN           NaN   \n",
       "27810  2016      8         4980                 NaN           NaN   \n",
       "29213  2016      9         4980                 NaN           NaN   \n",
       "30616  2016     10         4980                 NaN           NaN   \n",
       "32019  2016     11         4980                 NaN           NaN   \n",
       "33422  2016     12         4980                 NaN           NaN   \n",
       "\n",
       "       Sale (Dollars)  Volume Sold (Liters)  Volume Sold (Gallons)      City  \\\n",
       "1153          2101.56                154.35                  40.78  WASHBURN   \n",
       "2556              NaN                   NaN                    NaN  WASHBURN   \n",
       "3959          3476.16                222.30                  58.76  WASHBURN   \n",
       "5362          1347.48                 86.70                  22.92  WASHBURN   \n",
       "6765          1800.78                141.30                  37.34  WASHBURN   \n",
       "8168          2250.06                135.00                  35.68  WASHBURN   \n",
       "9571          1431.96                127.20                  33.63  WASHBURN   \n",
       "10974         4384.74                326.40                  86.27  WASHBURN   \n",
       "12377         1039.68                108.00                  28.54  WASHBURN   \n",
       "13780         2756.70                181.80                  48.05  WASHBURN   \n",
       "15183         2376.36                234.60                  61.99  WASHBURN   \n",
       "16586             NaN                   NaN                    NaN  WASHBURN   \n",
       "17989         3183.90                180.00                  47.59  WASHBURN   \n",
       "19392         1854.66                145.50                  38.44  WASHBURN   \n",
       "20795         2039.88                150.30                  39.74  WASHBURN   \n",
       "22198             NaN                   NaN                    NaN  WASHBURN   \n",
       "23601             NaN                   NaN                    NaN  WASHBURN   \n",
       "25004             NaN                   NaN                    NaN  WASHBURN   \n",
       "26407             NaN                   NaN                    NaN  WASHBURN   \n",
       "27810             NaN                   NaN                    NaN  WASHBURN   \n",
       "29213             NaN                   NaN                    NaN  WASHBURN   \n",
       "30616             NaN                   NaN                    NaN  WASHBURN   \n",
       "32019             NaN                   NaN                    NaN  WASHBURN   \n",
       "33422             NaN                   NaN                    NaN  WASHBURN   \n",
       "\n",
       "       State Bottle Cost  State Bottle Retail  2010_pop  2015_pop_est  \\\n",
       "1153            6.130769             9.197692       NaN           NaN   \n",
       "2556                 NaN                  NaN       NaN           NaN   \n",
       "3959            7.441481            11.164444       NaN           NaN   \n",
       "5362            6.531667             9.809167       NaN           NaN   \n",
       "6765            6.327273             9.493636       NaN           NaN   \n",
       "8168           10.360000            15.543077       NaN           NaN   \n",
       "9571            5.500000             8.342727       NaN           NaN   \n",
       "10974           7.760455            11.643182       NaN           NaN   \n",
       "12377           5.392500             8.090000       NaN           NaN   \n",
       "13780           9.075333            13.615333       NaN           NaN   \n",
       "15183           5.240000             7.862500       NaN           NaN   \n",
       "16586                NaN                  NaN       NaN           NaN   \n",
       "17989           9.413000            14.122000       NaN           NaN   \n",
       "19392           6.688182            10.034545       NaN           NaN   \n",
       "20795           6.144167             9.218333       NaN           NaN   \n",
       "22198                NaN                  NaN       NaN           NaN   \n",
       "23601                NaN                  NaN       NaN           NaN   \n",
       "25004                NaN                  NaN       NaN           NaN   \n",
       "26407                NaN                  NaN       NaN           NaN   \n",
       "27810                NaN                  NaN       NaN           NaN   \n",
       "29213                NaN                  NaN       NaN           NaN   \n",
       "30616                NaN                  NaN       NaN           NaN   \n",
       "32019                NaN                  NaN       NaN           NaN   \n",
       "33422                NaN                  NaN       NaN           NaN   \n",
       "\n",
       "       2016_pop_est           merge  Monthly Stores in City  Pop per Store  \n",
       "1153            NaN   20151WASHBURN                       1            NaN  \n",
       "2556            NaN   20152WASHBURN                       1            NaN  \n",
       "3959            NaN   20153WASHBURN                       1            NaN  \n",
       "5362            NaN   20154WASHBURN                       1            NaN  \n",
       "6765            NaN   20155WASHBURN                       1            NaN  \n",
       "8168            NaN   20156WASHBURN                       1            NaN  \n",
       "9571            NaN   20157WASHBURN                       1            NaN  \n",
       "10974           NaN   20158WASHBURN                       1            NaN  \n",
       "12377           NaN   20159WASHBURN                       1            NaN  \n",
       "13780           NaN  201510WASHBURN                       1            NaN  \n",
       "15183           NaN  201511WASHBURN                       1            NaN  \n",
       "16586           NaN  201512WASHBURN                       1            NaN  \n",
       "17989           NaN   20161WASHBURN                       1            NaN  \n",
       "19392           NaN   20162WASHBURN                       1            NaN  \n",
       "20795           NaN   20163WASHBURN                       1            NaN  \n",
       "22198           NaN   20164WASHBURN                       1            NaN  \n",
       "23601           NaN   20165WASHBURN                       1            NaN  \n",
       "25004           NaN   20166WASHBURN                       1            NaN  \n",
       "26407           NaN   20167WASHBURN                       1            NaN  \n",
       "27810           NaN   20168WASHBURN                       1            NaN  \n",
       "29213           NaN   20169WASHBURN                       1            NaN  \n",
       "30616           NaN  201610WASHBURN                       1            NaN  \n",
       "32019           NaN  201611WASHBURN                       1            NaN  \n",
       "33422           NaN  201612WASHBURN                       1            NaN  "
      ]
     },
     "execution_count": 36,
     "metadata": {},
     "output_type": "execute_result"
    }
   ],
   "source": [
    "BIGMERGE[BIGMERGE['Pop per Store'].isnull()]"
   ]
  },
  {
   "cell_type": "code",
   "execution_count": 37,
   "metadata": {
    "collapsed": true
   },
   "outputs": [],
   "source": [
    "BIGMERGE = BIGMERGE.drop('merge', 1)"
   ]
  },
  {
   "cell_type": "code",
   "execution_count": 38,
   "metadata": {},
   "outputs": [
    {
     "data": {
      "text/plain": [
       "371"
      ]
     },
     "execution_count": 38,
     "metadata": {},
     "output_type": "execute_result"
    }
   ],
   "source": [
    "BIGMERGE.City.nunique()"
   ]
  },
  {
   "cell_type": "markdown",
   "metadata": {},
   "source": [
    "## Here comes the Target: Total Year Sales per Store in City"
   ]
  },
  {
   "cell_type": "code",
   "execution_count": 39,
   "metadata": {
    "collapsed": true,
    "scrolled": true
   },
   "outputs": [],
   "source": [
    "citytarget = BIGMERGE.groupby('City', as_index=False)['Sale (Dollars)'].sum()\n",
    "citytarget['Sales per Store'] = citytarget['Sale (Dollars)']/BIGMERGE.groupby('City', as_index=False)['Monthly Stores in City'].mean()['Monthly Stores in City']"
   ]
  },
  {
   "cell_type": "code",
   "execution_count": 99,
   "metadata": {},
   "outputs": [
    {
     "data": {
      "text/html": [
       "<div>\n",
       "<style>\n",
       "    .dataframe thead tr:only-child th {\n",
       "        text-align: right;\n",
       "    }\n",
       "\n",
       "    .dataframe thead th {\n",
       "        text-align: left;\n",
       "    }\n",
       "\n",
       "    .dataframe tbody tr th {\n",
       "        vertical-align: top;\n",
       "    }\n",
       "</style>\n",
       "<table border=\"1\" class=\"dataframe\">\n",
       "  <thead>\n",
       "    <tr style=\"text-align: right;\">\n",
       "      <th></th>\n",
       "      <th>City</th>\n",
       "      <th>Pop per Store</th>\n",
       "      <th>2010_pop</th>\n",
       "      <th>Monthly Stores in City</th>\n",
       "    </tr>\n",
       "  </thead>\n",
       "  <tbody>\n",
       "    <tr>\n",
       "      <th>0</th>\n",
       "      <td>ACKLEY</td>\n",
       "      <td>776.000000</td>\n",
       "      <td>1589.0</td>\n",
       "      <td>2</td>\n",
       "    </tr>\n",
       "    <tr>\n",
       "      <th>1</th>\n",
       "      <td>ADAIR</td>\n",
       "      <td>363.500000</td>\n",
       "      <td>781.0</td>\n",
       "      <td>2</td>\n",
       "    </tr>\n",
       "    <tr>\n",
       "      <th>2</th>\n",
       "      <td>ADEL</td>\n",
       "      <td>1331.666667</td>\n",
       "      <td>3682.0</td>\n",
       "      <td>3</td>\n",
       "    </tr>\n",
       "    <tr>\n",
       "      <th>3</th>\n",
       "      <td>AFTON</td>\n",
       "      <td>828.000000</td>\n",
       "      <td>845.0</td>\n",
       "      <td>1</td>\n",
       "    </tr>\n",
       "    <tr>\n",
       "      <th>4</th>\n",
       "      <td>AKRON</td>\n",
       "      <td>1454.000000</td>\n",
       "      <td>1486.0</td>\n",
       "      <td>1</td>\n",
       "    </tr>\n",
       "  </tbody>\n",
       "</table>\n",
       "</div>"
      ],
      "text/plain": [
       "     City  Pop per Store  2010_pop  Monthly Stores in City\n",
       "0  ACKLEY     776.000000    1589.0                       2\n",
       "1   ADAIR     363.500000     781.0                       2\n",
       "2    ADEL    1331.666667    3682.0                       3\n",
       "3   AFTON     828.000000     845.0                       1\n",
       "4   AKRON    1454.000000    1486.0                       1"
      ]
     },
     "execution_count": 99,
     "metadata": {},
     "output_type": "execute_result"
    }
   ],
   "source": [
    "features = BIGMERGE.groupby('City', as_index=False)['Pop per Store', '2010_pop', 'Monthly Stores in City'].mean()\n",
    "features.head()"
   ]
  },
  {
   "cell_type": "code",
   "execution_count": 100,
   "metadata": {},
   "outputs": [
    {
     "data": {
      "text/plain": [
       "(371, 4)"
      ]
     },
     "execution_count": 100,
     "metadata": {},
     "output_type": "execute_result"
    }
   ],
   "source": [
    "features.shape"
   ]
  },
  {
   "cell_type": "code",
   "execution_count": 101,
   "metadata": {
    "collapsed": true
   },
   "outputs": [],
   "source": [
    "# Add columns for January 2015 average store sales and volume sold\n",
    "features = pd.merge(features, BIGMERGE[(BIGMERGE['Year']==2015) & (BIGMERGE['Month']==1)].groupby('City', as_index=False)[['Sale (Dollars)', 'Volume Sold (Liters)']].mean(), how='left', on='City')\n",
    "features.columns = ['City', 'Pop per Store', '2010_pop', 'Monthly Stores in City',\n",
    "       'Jan_2015_Sales', 'Jan_2015_Volume_Sold(L)']"
   ]
  },
  {
   "cell_type": "code",
   "execution_count": 102,
   "metadata": {
    "collapsed": true
   },
   "outputs": [],
   "source": [
    "# And February\n",
    "features = pd.merge(features, BIGMERGE[(BIGMERGE['Year']==2015) & (BIGMERGE['Month']==2)].groupby('City', as_index=False)[['Sale (Dollars)', 'Volume Sold (Liters)']].mean(), how='left', on='City')\n",
    "features.columns = ['City', 'Pop per Store', '2010_pop', 'Monthly Stores in City',\n",
    "       'Jan_2015_Sales', 'Jan_2015_Volume_Sold(L)', 'Feb_2015_Sales', 'Feb_2015_Volume_Sold(L)']"
   ]
  },
  {
   "cell_type": "code",
   "execution_count": 103,
   "metadata": {
    "collapsed": true
   },
   "outputs": [],
   "source": [
    "# And March\n",
    "features = pd.merge(features, BIGMERGE[(BIGMERGE['Year']==2015) & (BIGMERGE['Month']==3)].groupby('City', as_index=False)[['Sale (Dollars)', 'Volume Sold (Liters)']].mean(), how='left', on='City')\n",
    "features.columns = ['City', 'Pop per Store', '2010_pop', 'Monthly Stores in City',\n",
    "       'Jan_2015_Sales', 'Jan_2015_Volume_Sold(L)', 'Feb_2015_Sales', 'Feb_2015_Volume_Sold(L)', 'Mar_2015_Sales', 'Mar_2015_Volume_Sold(L)']"
   ]
  },
  {
   "cell_type": "code",
   "execution_count": 104,
   "metadata": {
    "scrolled": true
   },
   "outputs": [
    {
     "name": "stdout",
     "output_type": "stream",
     "text": [
      "(371, 10)\n",
      "(371, 10)\n",
      "(371, 3)\n"
     ]
    },
    {
     "data": {
      "text/html": [
       "<div>\n",
       "<style>\n",
       "    .dataframe thead tr:only-child th {\n",
       "        text-align: right;\n",
       "    }\n",
       "\n",
       "    .dataframe thead th {\n",
       "        text-align: left;\n",
       "    }\n",
       "\n",
       "    .dataframe tbody tr th {\n",
       "        vertical-align: top;\n",
       "    }\n",
       "</style>\n",
       "<table border=\"1\" class=\"dataframe\">\n",
       "  <thead>\n",
       "    <tr style=\"text-align: right;\">\n",
       "      <th></th>\n",
       "      <th>City</th>\n",
       "      <th>Pop per Store</th>\n",
       "      <th>2010_pop</th>\n",
       "      <th>Monthly Stores in City</th>\n",
       "      <th>Jan_2015_Sales</th>\n",
       "      <th>Jan_2015_Volume_Sold(L)</th>\n",
       "      <th>Feb_2015_Sales</th>\n",
       "      <th>Feb_2015_Volume_Sold(L)</th>\n",
       "      <th>Mar_2015_Sales</th>\n",
       "      <th>Mar_2015_Volume_Sold(L)</th>\n",
       "    </tr>\n",
       "  </thead>\n",
       "  <tbody>\n",
       "    <tr>\n",
       "      <th>0</th>\n",
       "      <td>ACKLEY</td>\n",
       "      <td>776.000000</td>\n",
       "      <td>1589.0</td>\n",
       "      <td>2</td>\n",
       "      <td>2662.070</td>\n",
       "      <td>250.185</td>\n",
       "      <td>1459.760000</td>\n",
       "      <td>143.500000</td>\n",
       "      <td>2047.885</td>\n",
       "      <td>203.160</td>\n",
       "    </tr>\n",
       "    <tr>\n",
       "      <th>1</th>\n",
       "      <td>ADAIR</td>\n",
       "      <td>363.500000</td>\n",
       "      <td>781.0</td>\n",
       "      <td>2</td>\n",
       "      <td>2001.830</td>\n",
       "      <td>144.000</td>\n",
       "      <td>2182.740000</td>\n",
       "      <td>138.450000</td>\n",
       "      <td>2765.180</td>\n",
       "      <td>169.500</td>\n",
       "    </tr>\n",
       "    <tr>\n",
       "      <th>2</th>\n",
       "      <td>ADEL</td>\n",
       "      <td>1331.666667</td>\n",
       "      <td>3682.0</td>\n",
       "      <td>3</td>\n",
       "      <td>8345.475</td>\n",
       "      <td>753.870</td>\n",
       "      <td>9105.026667</td>\n",
       "      <td>646.636667</td>\n",
       "      <td>13939.085</td>\n",
       "      <td>1020.195</td>\n",
       "    </tr>\n",
       "    <tr>\n",
       "      <th>3</th>\n",
       "      <td>AFTON</td>\n",
       "      <td>828.000000</td>\n",
       "      <td>845.0</td>\n",
       "      <td>1</td>\n",
       "      <td>2234.400</td>\n",
       "      <td>144.000</td>\n",
       "      <td>1421.400000</td>\n",
       "      <td>112.500000</td>\n",
       "      <td>2419.200</td>\n",
       "      <td>209.100</td>\n",
       "    </tr>\n",
       "    <tr>\n",
       "      <th>4</th>\n",
       "      <td>AKRON</td>\n",
       "      <td>1454.000000</td>\n",
       "      <td>1486.0</td>\n",
       "      <td>1</td>\n",
       "      <td>4731.210</td>\n",
       "      <td>381.740</td>\n",
       "      <td>1393.640000</td>\n",
       "      <td>114.870000</td>\n",
       "      <td>3459.190</td>\n",
       "      <td>310.850</td>\n",
       "    </tr>\n",
       "  </tbody>\n",
       "</table>\n",
       "</div>"
      ],
      "text/plain": [
       "     City  Pop per Store  2010_pop  Monthly Stores in City  Jan_2015_Sales  \\\n",
       "0  ACKLEY     776.000000    1589.0                       2        2662.070   \n",
       "1   ADAIR     363.500000     781.0                       2        2001.830   \n",
       "2    ADEL    1331.666667    3682.0                       3        8345.475   \n",
       "3   AFTON     828.000000     845.0                       1        2234.400   \n",
       "4   AKRON    1454.000000    1486.0                       1        4731.210   \n",
       "\n",
       "   Jan_2015_Volume_Sold(L)  Feb_2015_Sales  Feb_2015_Volume_Sold(L)  \\\n",
       "0                  250.185     1459.760000               143.500000   \n",
       "1                  144.000     2182.740000               138.450000   \n",
       "2                  753.870     9105.026667               646.636667   \n",
       "3                  144.000     1421.400000               112.500000   \n",
       "4                  381.740     1393.640000               114.870000   \n",
       "\n",
       "   Mar_2015_Sales  Mar_2015_Volume_Sold(L)  \n",
       "0        2047.885                  203.160  \n",
       "1        2765.180                  169.500  \n",
       "2       13939.085                 1020.195  \n",
       "3        2419.200                  209.100  \n",
       "4        3459.190                  310.850  "
      ]
     },
     "execution_count": 104,
     "metadata": {},
     "output_type": "execute_result"
    }
   ],
   "source": [
    "print(features.shape)\n",
    "print(features.fillna(0).shape)\n",
    "print(citytarget.shape)\n",
    "features.head()"
   ]
  },
  {
   "cell_type": "markdown",
   "metadata": {},
   "source": [
    "## Break into training and test dataset:"
   ]
  },
  {
   "cell_type": "code",
   "execution_count": 105,
   "metadata": {
    "collapsed": true
   },
   "outputs": [],
   "source": [
    "from sklearn.model_selection import train_test_split"
   ]
  },
  {
   "cell_type": "code",
   "execution_count": 106,
   "metadata": {
    "collapsed": true
   },
   "outputs": [],
   "source": [
    "X_train, X_test, y_train, y_test = train_test_split(features.drop(['City', '2010_pop'], 1).fillna(0), citytarget.drop(['City', 'Sale (Dollars)'],1), test_size=0.3)"
   ]
  },
  {
   "cell_type": "code",
   "execution_count": 107,
   "metadata": {},
   "outputs": [
    {
     "name": "stdout",
     "output_type": "stream",
     "text": [
      "(259, 8) (259, 1)\n",
      "(112, 8) (112, 1)\n"
     ]
    }
   ],
   "source": [
    "print(X_train.shape, y_train.shape)\n",
    "print(X_test.shape, y_test.shape)"
   ]
  },
  {
   "cell_type": "markdown",
   "metadata": {},
   "source": [
    "## AND WE BUILD THE MODEL!!!"
   ]
  },
  {
   "cell_type": "code",
   "execution_count": 108,
   "metadata": {},
   "outputs": [],
   "source": [
    "X = X_train\n",
    "y = y_train\n",
    "X = sm.add_constant(X) "
   ]
  },
  {
   "cell_type": "code",
   "execution_count": 109,
   "metadata": {},
   "outputs": [
    {
     "data": {
      "text/html": [
       "<table class=\"simpletable\">\n",
       "<caption>OLS Regression Results</caption>\n",
       "<tr>\n",
       "  <th>Dep. Variable:</th>     <td>Sales per Store</td> <th>  R-squared:         </th> <td>   0.963</td> \n",
       "</tr>\n",
       "<tr>\n",
       "  <th>Model:</th>                   <td>OLS</td>       <th>  Adj. R-squared:    </th> <td>   0.962</td> \n",
       "</tr>\n",
       "<tr>\n",
       "  <th>Method:</th>             <td>Least Squares</td>  <th>  F-statistic:       </th> <td>   826.9</td> \n",
       "</tr>\n",
       "<tr>\n",
       "  <th>Date:</th>             <td>Sun, 15 Oct 2017</td> <th>  Prob (F-statistic):</th> <td>1.38e-175</td>\n",
       "</tr>\n",
       "<tr>\n",
       "  <th>Time:</th>                 <td>18:11:39</td>     <th>  Log-Likelihood:    </th> <td> -3076.1</td> \n",
       "</tr>\n",
       "<tr>\n",
       "  <th>No. Observations:</th>      <td>   259</td>      <th>  AIC:               </th> <td>   6168.</td> \n",
       "</tr>\n",
       "<tr>\n",
       "  <th>Df Residuals:</th>          <td>   251</td>      <th>  BIC:               </th> <td>   6197.</td> \n",
       "</tr>\n",
       "<tr>\n",
       "  <th>Df Model:</th>              <td>     8</td>      <th>                     </th>     <td> </td>    \n",
       "</tr>\n",
       "<tr>\n",
       "  <th>Covariance Type:</th>      <td>nonrobust</td>    <th>                     </th>     <td> </td>    \n",
       "</tr>\n",
       "</table>\n",
       "<table class=\"simpletable\">\n",
       "<tr>\n",
       "             <td></td>                <th>coef</th>     <th>std err</th>      <th>t</th>      <th>P>|t|</th>  <th>[0.025</th>    <th>0.975]</th>  \n",
       "</tr>\n",
       "<tr>\n",
       "  <th>Pop per Store</th>           <td>   11.8138</td> <td>    2.627</td> <td>    4.497</td> <td> 0.000</td> <td>    6.640</td> <td>   16.988</td>\n",
       "</tr>\n",
       "<tr>\n",
       "  <th>Monthly Stores in City</th>  <td> -133.8229</td> <td>  376.573</td> <td>   -0.355</td> <td> 0.723</td> <td> -875.469</td> <td>  607.823</td>\n",
       "</tr>\n",
       "<tr>\n",
       "  <th>Jan_2015_Sales</th>          <td>   12.0633</td> <td>    2.920</td> <td>    4.131</td> <td> 0.000</td> <td>    6.312</td> <td>   17.814</td>\n",
       "</tr>\n",
       "<tr>\n",
       "  <th>Jan_2015_Volume_Sold(L)</th> <td>  -86.6033</td> <td>   41.468</td> <td>   -2.088</td> <td> 0.038</td> <td> -168.273</td> <td>   -4.934</td>\n",
       "</tr>\n",
       "<tr>\n",
       "  <th>Feb_2015_Sales</th>          <td>    1.7149</td> <td>    2.182</td> <td>    0.786</td> <td> 0.433</td> <td>   -2.582</td> <td>    6.012</td>\n",
       "</tr>\n",
       "<tr>\n",
       "  <th>Feb_2015_Volume_Sold(L)</th> <td>   44.3818</td> <td>   27.659</td> <td>    1.605</td> <td> 0.110</td> <td>  -10.091</td> <td>   98.855</td>\n",
       "</tr>\n",
       "<tr>\n",
       "  <th>Mar_2015_Sales</th>          <td>    2.9677</td> <td>    2.696</td> <td>    1.101</td> <td> 0.272</td> <td>   -2.342</td> <td>    8.278</td>\n",
       "</tr>\n",
       "<tr>\n",
       "  <th>Mar_2015_Volume_Sold(L)</th> <td>    1.9140</td> <td>   36.740</td> <td>    0.052</td> <td> 0.958</td> <td>  -70.444</td> <td>   74.272</td>\n",
       "</tr>\n",
       "</table>\n",
       "<table class=\"simpletable\">\n",
       "<tr>\n",
       "  <th>Omnibus:</th>       <td>141.464</td> <th>  Durbin-Watson:     </th> <td>   2.033</td>\n",
       "</tr>\n",
       "<tr>\n",
       "  <th>Prob(Omnibus):</th> <td> 0.000</td>  <th>  Jarque-Bera (JB):  </th> <td>3711.394</td>\n",
       "</tr>\n",
       "<tr>\n",
       "  <th>Skew:</th>          <td> 1.597</td>  <th>  Prob(JB):          </th> <td>    0.00</td>\n",
       "</tr>\n",
       "<tr>\n",
       "  <th>Kurtosis:</th>      <td>21.268</td>  <th>  Cond. No.          </th> <td>3.69e+03</td>\n",
       "</tr>\n",
       "</table>"
      ],
      "text/plain": [
       "<class 'statsmodels.iolib.summary.Summary'>\n",
       "\"\"\"\n",
       "                            OLS Regression Results                            \n",
       "==============================================================================\n",
       "Dep. Variable:        Sales per Store   R-squared:                       0.963\n",
       "Model:                            OLS   Adj. R-squared:                  0.962\n",
       "Method:                 Least Squares   F-statistic:                     826.9\n",
       "Date:                Sun, 15 Oct 2017   Prob (F-statistic):          1.38e-175\n",
       "Time:                        18:11:39   Log-Likelihood:                -3076.1\n",
       "No. Observations:                 259   AIC:                             6168.\n",
       "Df Residuals:                     251   BIC:                             6197.\n",
       "Df Model:                           8                                         \n",
       "Covariance Type:            nonrobust                                         \n",
       "===========================================================================================\n",
       "                              coef    std err          t      P>|t|      [0.025      0.975]\n",
       "-------------------------------------------------------------------------------------------\n",
       "Pop per Store              11.8138      2.627      4.497      0.000       6.640      16.988\n",
       "Monthly Stores in City   -133.8229    376.573     -0.355      0.723    -875.469     607.823\n",
       "Jan_2015_Sales             12.0633      2.920      4.131      0.000       6.312      17.814\n",
       "Jan_2015_Volume_Sold(L)   -86.6033     41.468     -2.088      0.038    -168.273      -4.934\n",
       "Feb_2015_Sales              1.7149      2.182      0.786      0.433      -2.582       6.012\n",
       "Feb_2015_Volume_Sold(L)    44.3818     27.659      1.605      0.110     -10.091      98.855\n",
       "Mar_2015_Sales              2.9677      2.696      1.101      0.272      -2.342       8.278\n",
       "Mar_2015_Volume_Sold(L)     1.9140     36.740      0.052      0.958     -70.444      74.272\n",
       "==============================================================================\n",
       "Omnibus:                      141.464   Durbin-Watson:                   2.033\n",
       "Prob(Omnibus):                  0.000   Jarque-Bera (JB):             3711.394\n",
       "Skew:                           1.597   Prob(JB):                         0.00\n",
       "Kurtosis:                      21.268   Cond. No.                     3.69e+03\n",
       "==============================================================================\n",
       "\n",
       "Warnings:\n",
       "[1] Standard Errors assume that the covariance matrix of the errors is correctly specified.\n",
       "[2] The condition number is large, 3.69e+03. This might indicate that there are\n",
       "strong multicollinearity or other numerical problems.\n",
       "\"\"\""
      ]
     },
     "execution_count": 109,
     "metadata": {},
     "output_type": "execute_result"
    }
   ],
   "source": [
    "model = sm.OLS(y_train, X_train).fit() ## sm.OLS(output, input)\n",
    "predictions = model.predict(X_train)\n",
    "model.summary()\n",
    "# Now that's more like it!"
   ]
  },
  {
   "cell_type": "code",
   "execution_count": 110,
   "metadata": {},
   "outputs": [
    {
     "data": {
      "image/png": "[encoded data removed]",
      "text/plain": [
       "<matplotlib.figure.Figure at 0x11dab2d30>"
      ]
     },
     "metadata": {},
     "output_type": "display_data"
    },
    {
     "name": "stdout",
     "output_type": "stream",
     "text": [
      "Mean Squared Error: 1017009.02146\n"
     ]
    }
   ],
   "source": [
    "# And plot the predictions against the actual values\n",
    "plt.scatter(predictions, y, s=30, c='r', marker='+', zorder=10)\n",
    "plt.xlabel(\"Predicted Values from Model\")\n",
    "plt.ylabel(\"Actual Values\")\n",
    "plt.show()\n",
    "print(\"Mean Squared Error:\", np.sqrt(model.mse_model))"
   ]
  },
  {
   "cell_type": "markdown",
   "metadata": {},
   "source": [
    "Alright, let's do some validation to predict how we'll do once we look at more data.  And see if we can't get that Mean Squared Error down a bit."
   ]
  },
  {
   "cell_type": "code",
   "execution_count": 111,
   "metadata": {},
   "outputs": [],
   "source": [
    "lm = linear_model.LinearRegression()\n",
    "model = lm.fit(X_train, y_train)\n",
    "scores = cross_val_score(model, X_train, y_train, cv=10)"
   ]
  },
  {
   "cell_type": "code",
   "execution_count": 112,
   "metadata": {},
   "outputs": [
    {
     "name": "stdout",
     "output_type": "stream",
     "text": [
      "Cross-validated scores: [ 0.9419366   0.95043124  0.86081716  0.78322983  0.93059495  0.92885576\n",
      "  0.90414819  0.8262404   0.96091638  0.88322335]\n",
      "Average:  0.897039385441\n"
     ]
    }
   ],
   "source": [
    "print(\"Cross-validated scores:\", scores)\n",
    "print(\"Average: \", scores.mean())"
   ]
  },
  {
   "cell_type": "code",
   "execution_count": 113,
   "metadata": {},
   "outputs": [
    {
     "name": "stdout",
     "output_type": "stream",
     "text": [
      "Cross-Predicted Accuracy: 0.89702240479\n"
     ]
    },
    {
     "data": {
      "image/png": "[encoded data removed]",
      "text/plain": [
       "<matplotlib.figure.Figure at 0x123191c50>"
      ]
     },
     "metadata": {},
     "output_type": "display_data"
    }
   ],
   "source": [
    "predictions = cross_val_predict(model, X, y, cv=10)\n",
    "plt.scatter(y, predictions)\n",
    "accuracy = metrics.r2_score(y, predictions)\n",
    "print(\"Cross-Predicted Accuracy:\", accuracy)\n",
    "# Not too shabby."
   ]
  },
  {
   "cell_type": "markdown",
   "metadata": {},
   "source": [
    "I want to double check those regularization results as well."
   ]
  },
  {
   "cell_type": "code",
   "execution_count": 114,
   "metadata": {},
   "outputs": [
    {
     "name": "stderr",
     "output_type": "stream",
     "text": [
      "/anaconda/lib/python3.6/site-packages/sklearn/linear_model/coordinate_descent.py:1094: DataConversionWarning: A column-vector y was passed when a 1d array was expected. Please change the shape of y to (n_samples, ), for example using ravel().\n",
      "  y = column_or_1d(y, warn=True)\n"
     ]
    },
    {
     "data": {
      "text/plain": [
       "358.02477304358905"
      ]
     },
     "execution_count": 114,
     "metadata": {},
     "output_type": "execute_result"
    }
   ],
   "source": [
    "lassoregcv = LassoCV(n_alphas=10, normalize=True, random_state=1)\n",
    "lassoregcv.fit(X_train, y_train)\n",
    "lassoregcv.alpha_"
   ]
  },
  {
   "cell_type": "code",
   "execution_count": 115,
   "metadata": {},
   "outputs": [
    {
     "name": "stdout",
     "output_type": "stream",
     "text": [
      "[  9.06140733   0.           5.96436714   0.           3.50011997\n",
      "  10.47138082   3.06196722   0.        ]\n"
     ]
    }
   ],
   "source": [
    "lassoreg = Lasso(alpha=358.02, normalize=True)\n",
    "lassoreg.fit(X_train, y_train)\n",
    "print(lassoreg.coef_)"
   ]
  },
  {
   "cell_type": "code",
   "execution_count": 116,
   "metadata": {},
   "outputs": [
    {
     "name": "stdout",
     "output_type": "stream",
     "text": [
      "35760.6603866\n"
     ]
    }
   ],
   "source": [
    "y_pred = lassoreg.predict(X_train)\n",
    "print(np.sqrt(metrics.mean_squared_error(y_train, y_pred)))\n",
    "# Again, a much better mean squared error"
   ]
  },
  {
   "cell_type": "code",
   "execution_count": 117,
   "metadata": {},
   "outputs": [
    {
     "name": "stdout",
     "output_type": "stream",
     "text": [
      "Pop per Store 9.06133941581\n",
      "Monthly Stores in City 0.0\n",
      "Jan_2015_Sales 5.96436527534\n",
      "Jan_2015_Volume_Sold(L) 0.0\n",
      "Feb_2015_Sales 3.50012291628\n",
      "Feb_2015_Volume_Sold(L) 10.4713175715\n",
      "Mar_2015_Sales 3.06196468983\n",
      "Mar_2015_Volume_Sold(L) 0.0\n"
     ]
    }
   ],
   "source": [
    "for i, f in enumerate(features.drop(['City', '2010_pop'], 1).columns):\n",
    "    print(f, lassoregcv.coef_[i])"
   ]
  },
  {
   "cell_type": "code",
   "execution_count": 118,
   "metadata": {},
   "outputs": [
    {
     "data": {
      "text/html": [
       "<table class=\"simpletable\">\n",
       "<caption>OLS Regression Results</caption>\n",
       "<tr>\n",
       "  <th>Dep. Variable:</th>     <td>Sales per Store</td> <th>  R-squared:         </th> <td>   0.928</td> \n",
       "</tr>\n",
       "<tr>\n",
       "  <th>Model:</th>                   <td>OLS</td>       <th>  Adj. R-squared:    </th> <td>   0.927</td> \n",
       "</tr>\n",
       "<tr>\n",
       "  <th>Method:</th>             <td>Least Squares</td>  <th>  F-statistic:       </th> <td>   823.5</td> \n",
       "</tr>\n",
       "<tr>\n",
       "  <th>Date:</th>             <td>Sun, 15 Oct 2017</td> <th>  Prob (F-statistic):</th> <td>4.38e-144</td>\n",
       "</tr>\n",
       "<tr>\n",
       "  <th>Time:</th>                 <td>18:12:30</td>     <th>  Log-Likelihood:    </th> <td> -3078.5</td> \n",
       "</tr>\n",
       "<tr>\n",
       "  <th>No. Observations:</th>      <td>   259</td>      <th>  AIC:               </th> <td>   6167.</td> \n",
       "</tr>\n",
       "<tr>\n",
       "  <th>Df Residuals:</th>          <td>   254</td>      <th>  BIC:               </th> <td>   6185.</td> \n",
       "</tr>\n",
       "<tr>\n",
       "  <th>Df Model:</th>              <td>     4</td>      <th>                     </th>     <td> </td>    \n",
       "</tr>\n",
       "<tr>\n",
       "  <th>Covariance Type:</th>      <td>nonrobust</td>    <th>                     </th>     <td> </td>    \n",
       "</tr>\n",
       "</table>\n",
       "<table class=\"simpletable\">\n",
       "<tr>\n",
       "         <td></td>           <th>coef</th>     <th>std err</th>      <th>t</th>      <th>P>|t|</th>  <th>[0.025</th>    <th>0.975]</th>  \n",
       "</tr>\n",
       "<tr>\n",
       "  <th>const</th>          <td>-5478.4247</td> <td> 4218.421</td> <td>   -1.299</td> <td> 0.195</td> <td>-1.38e+04</td> <td> 2829.112</td>\n",
       "</tr>\n",
       "<tr>\n",
       "  <th>Pop per Store</th>  <td>   14.2091</td> <td>    3.403</td> <td>    4.176</td> <td> 0.000</td> <td>    7.508</td> <td>   20.911</td>\n",
       "</tr>\n",
       "<tr>\n",
       "  <th>Jan_2015_Sales</th> <td>    6.1567</td> <td>    0.901</td> <td>    6.830</td> <td> 0.000</td> <td>    4.382</td> <td>    7.932</td>\n",
       "</tr>\n",
       "<tr>\n",
       "  <th>Feb_2015_Sales</th> <td>    4.4257</td> <td>    0.713</td> <td>    6.204</td> <td> 0.000</td> <td>    3.021</td> <td>    5.831</td>\n",
       "</tr>\n",
       "<tr>\n",
       "  <th>Mar_2015_Sales</th> <td>    3.1508</td> <td>    0.807</td> <td>    3.906</td> <td> 0.000</td> <td>    1.562</td> <td>    4.739</td>\n",
       "</tr>\n",
       "</table>\n",
       "<table class=\"simpletable\">\n",
       "<tr>\n",
       "  <th>Omnibus:</th>       <td>129.291</td> <th>  Durbin-Watson:     </th> <td>   2.005</td>\n",
       "</tr>\n",
       "<tr>\n",
       "  <th>Prob(Omnibus):</th> <td> 0.000</td>  <th>  Jarque-Bera (JB):  </th> <td>3333.787</td>\n",
       "</tr>\n",
       "<tr>\n",
       "  <th>Skew:</th>          <td> 1.393</td>  <th>  Prob(JB):          </th> <td>    0.00</td>\n",
       "</tr>\n",
       "<tr>\n",
       "  <th>Kurtosis:</th>      <td>20.354</td>  <th>  Cond. No.          </th> <td>4.10e+04</td>\n",
       "</tr>\n",
       "</table>"
      ],
      "text/plain": [
       "<class 'statsmodels.iolib.summary.Summary'>\n",
       "\"\"\"\n",
       "                            OLS Regression Results                            \n",
       "==============================================================================\n",
       "Dep. Variable:        Sales per Store   R-squared:                       0.928\n",
       "Model:                            OLS   Adj. R-squared:                  0.927\n",
       "Method:                 Least Squares   F-statistic:                     823.5\n",
       "Date:                Sun, 15 Oct 2017   Prob (F-statistic):          4.38e-144\n",
       "Time:                        18:12:30   Log-Likelihood:                -3078.5\n",
       "No. Observations:                 259   AIC:                             6167.\n",
       "Df Residuals:                     254   BIC:                             6185.\n",
       "Df Model:                           4                                         \n",
       "Covariance Type:            nonrobust                                         \n",
       "==================================================================================\n",
       "                     coef    std err          t      P>|t|      [0.025      0.975]\n",
       "----------------------------------------------------------------------------------\n",
       "const          -5478.4247   4218.421     -1.299      0.195   -1.38e+04    2829.112\n",
       "Pop per Store     14.2091      3.403      4.176      0.000       7.508      20.911\n",
       "Jan_2015_Sales     6.1567      0.901      6.830      0.000       4.382       7.932\n",
       "Feb_2015_Sales     4.4257      0.713      6.204      0.000       3.021       5.831\n",
       "Mar_2015_Sales     3.1508      0.807      3.906      0.000       1.562       4.739\n",
       "==============================================================================\n",
       "Omnibus:                      129.291   Durbin-Watson:                   2.005\n",
       "Prob(Omnibus):                  0.000   Jarque-Bera (JB):             3333.787\n",
       "Skew:                           1.393   Prob(JB):                         0.00\n",
       "Kurtosis:                      20.354   Cond. No.                     4.10e+04\n",
       "==============================================================================\n",
       "\n",
       "Warnings:\n",
       "[1] Standard Errors assume that the covariance matrix of the errors is correctly specified.\n",
       "[2] The condition number is large, 4.1e+04. This might indicate that there are\n",
       "strong multicollinearity or other numerical problems.\n",
       "\"\"\""
      ]
     },
     "execution_count": 118,
     "metadata": {},
     "output_type": "execute_result"
    }
   ],
   "source": [
    "X = X_train.drop(['Monthly Stores in City', 'Jan_2015_Volume_Sold(L)', 'Feb_2015_Volume_Sold(L)', 'Mar_2015_Volume_Sold(L)'], 1)\n",
    "y = y_train\n",
    "X = sm.add_constant(X) \n",
    "model = sm.OLS(y, X).fit()\n",
    "predictions = model.predict(X)\n",
    "model.summary()"
   ]
  },
  {
   "cell_type": "code",
   "execution_count": 119,
   "metadata": {
    "collapsed": true
   },
   "outputs": [],
   "source": [
    "lm = linear_model.LinearRegression()\n",
    "model = lm.fit(X, y)\n",
    "scores = cross_val_score(model, X, y, cv=10)"
   ]
  },
  {
   "cell_type": "code",
   "execution_count": 120,
   "metadata": {},
   "outputs": [
    {
     "name": "stdout",
     "output_type": "stream",
     "text": [
      "Cross-validated scores: [ 0.96525629  0.94760045  0.87669487  0.84515082  0.93867221  0.92767011\n",
      "  0.89012071  0.82172794  0.9583069   0.91253225]\n",
      "Average:  0.908373255758\n"
     ]
    }
   ],
   "source": [
    "print(\"Cross-validated scores:\", scores)\n",
    "print(\"Average: \", scores.mean())"
   ]
  },
  {
   "cell_type": "code",
   "execution_count": 121,
   "metadata": {
    "scrolled": false
   },
   "outputs": [
    {
     "name": "stdout",
     "output_type": "stream",
     "text": [
      "Cross-Predicted Accuracy: 0.909464893292\n"
     ]
    },
    {
     "data": {
      "image/png": "[encoded data removed]",
      "text/plain": [
       "<matplotlib.figure.Figure at 0x144cba9e8>"
      ]
     },
     "metadata": {},
     "output_type": "display_data"
    }
   ],
   "source": [
    "predictions = cross_val_predict(model, X, y, cv=10)\n",
    "plt.scatter(y, predictions)\n",
    "accuracy = metrics.r2_score(y, predictions)\n",
    "print(\"Cross-Predicted Accuracy:\", accuracy)\n",
    "# Small increase in accuracy."
   ]
  },
  {
   "cell_type": "markdown",
   "metadata": {},
   "source": [
    "## Drum roll... now we test!"
   ]
  },
  {
   "cell_type": "code",
   "execution_count": 122,
   "metadata": {
    "collapsed": true
   },
   "outputs": [],
   "source": [
    "X2 = X_test.drop(['Monthly Stores in City', 'Jan_2015_Volume_Sold(L)', 'Feb_2015_Volume_Sold(L)', 'Mar_2015_Volume_Sold(L)'], 1)\n",
    "X2 = sm.add_constant(X2) "
   ]
  },
  {
   "cell_type": "code",
   "execution_count": 123,
   "metadata": {},
   "outputs": [
    {
     "name": "stdout",
     "output_type": "stream",
     "text": [
      "Score: 0.956708298713\n"
     ]
    },
    {
     "data": {
      "image/png": "[encoded data removed]",
      "text/plain": [
       "<matplotlib.figure.Figure at 0x14b174da0>"
      ]
     },
     "metadata": {},
     "output_type": "display_data"
    }
   ],
   "source": [
    "predictions = lm.predict(X2)\n",
    "plt.scatter(y_test, predictions)\n",
    "plt.xlabel(\"True Values\")\n",
    "plt.ylabel(\"Predictions\")\n",
    "print(\"Score:\", model.score(X2, y_test))"
   ]
  },
  {
   "cell_type": "code",
   "execution_count": 124,
   "metadata": {},
   "outputs": [
    {
     "name": "stdout",
     "output_type": "stream",
     "text": [
      "Test Accuracy: 0.956708298713\n"
     ]
    }
   ],
   "source": [
    "accuracy = metrics.r2_score(y_test, predictions)\n",
    "print(\"Test Accuracy:\", accuracy)"
   ]
  },
  {
   "cell_type": "code",
   "execution_count": 125,
   "metadata": {},
   "outputs": [
    {
     "name": "stdout",
     "output_type": "stream",
     "text": [
      "29150.7493088\n"
     ]
    }
   ],
   "source": [
    "print(np.sqrt(metrics.mean_squared_error(y_test, predictions)))"
   ]
  },
  {
   "cell_type": "markdown",
   "metadata": {},
   "source": [
    "## $R^2$ of 90%?  Pretty pleased with that!  The Squared MSE is a definite improvement as well!"
   ]
  },
  {
   "cell_type": "markdown",
   "metadata": {},
   "source": [
    "## Let's predict 2016 average store sales by city:"
   ]
  },
  {
   "cell_type": "code",
   "execution_count": 126,
   "metadata": {
    "collapsed": true
   },
   "outputs": [],
   "source": [
    "pps = BIGMERGE[BIGMERGE['Year']==2016].groupby(['Month', 'City'], as_index=False)['Store Number'].count()"
   ]
  },
  {
   "cell_type": "code",
   "execution_count": 127,
   "metadata": {
    "collapsed": true,
    "scrolled": true
   },
   "outputs": [],
   "source": [
    "pps.columns = ['Month', 'City', 'Monthly Stores in City']\n",
    "pps = pd.merge(pps, pop_add, how='left', on='City')"
   ]
  },
  {
   "cell_type": "code",
   "execution_count": 128,
   "metadata": {
    "collapsed": true
   },
   "outputs": [],
   "source": [
    "pps['Pop per Store'] = pps['2016_pop_est']/pps['Monthly Stores in City']"
   ]
  },
  {
   "cell_type": "code",
   "execution_count": 129,
   "metadata": {
    "scrolled": true
   },
   "outputs": [
    {
     "data": {
      "text/html": [
       "<div>\n",
       "<style>\n",
       "    .dataframe thead tr:only-child th {\n",
       "        text-align: right;\n",
       "    }\n",
       "\n",
       "    .dataframe thead th {\n",
       "        text-align: left;\n",
       "    }\n",
       "\n",
       "    .dataframe tbody tr th {\n",
       "        vertical-align: top;\n",
       "    }\n",
       "</style>\n",
       "<table border=\"1\" class=\"dataframe\">\n",
       "  <thead>\n",
       "    <tr style=\"text-align: right;\">\n",
       "      <th></th>\n",
       "      <th>Year</th>\n",
       "      <th>Month</th>\n",
       "      <th>Store Number</th>\n",
       "      <th>Bottle Volume (ml)</th>\n",
       "      <th>Bottles Sold</th>\n",
       "      <th>Sale (Dollars)</th>\n",
       "      <th>Volume Sold (Liters)</th>\n",
       "      <th>Volume Sold (Gallons)</th>\n",
       "      <th>City</th>\n",
       "      <th>State Bottle Cost</th>\n",
       "      <th>State Bottle Retail</th>\n",
       "      <th>2010_pop</th>\n",
       "      <th>2015_pop_est</th>\n",
       "      <th>2016_pop_est</th>\n",
       "      <th>merge</th>\n",
       "      <th>Monthly Stores in City</th>\n",
       "      <th>Pop per Store</th>\n",
       "    </tr>\n",
       "  </thead>\n",
       "  <tbody>\n",
       "    <tr>\n",
       "      <th>0</th>\n",
       "      <td>2016</td>\n",
       "      <td>1</td>\n",
       "      <td>2106</td>\n",
       "      <td>351225.0</td>\n",
       "      <td>7088.0</td>\n",
       "      <td>102944.29</td>\n",
       "      <td>6563.85</td>\n",
       "      <td>1734.28</td>\n",
       "      <td>CEDAR FALLS</td>\n",
       "      <td>10.539114</td>\n",
       "      <td>15.813544</td>\n",
       "      <td>39260.0</td>\n",
       "      <td>41345.0</td>\n",
       "      <td>41390.0</td>\n",
       "      <td>1CEDAR FALLS</td>\n",
       "      <td>17</td>\n",
       "      <td>2434.705882</td>\n",
       "    </tr>\n",
       "    <tr>\n",
       "      <th>1</th>\n",
       "      <td>2016</td>\n",
       "      <td>1</td>\n",
       "      <td>2113</td>\n",
       "      <td>120750.0</td>\n",
       "      <td>518.0</td>\n",
       "      <td>7194.92</td>\n",
       "      <td>509.47</td>\n",
       "      <td>134.55</td>\n",
       "      <td>GOWRIE</td>\n",
       "      <td>11.029764</td>\n",
       "      <td>16.548976</td>\n",
       "      <td>1037.0</td>\n",
       "      <td>989.0</td>\n",
       "      <td>981.0</td>\n",
       "      <td>1GOWRIE</td>\n",
       "      <td>2</td>\n",
       "      <td>490.500000</td>\n",
       "    </tr>\n",
       "    <tr>\n",
       "      <th>2</th>\n",
       "      <td>2016</td>\n",
       "      <td>1</td>\n",
       "      <td>2130</td>\n",
       "      <td>297400.0</td>\n",
       "      <td>5532.0</td>\n",
       "      <td>83481.76</td>\n",
       "      <td>5004.65</td>\n",
       "      <td>1322.15</td>\n",
       "      <td>WATERLOO</td>\n",
       "      <td>10.022713</td>\n",
       "      <td>15.036309</td>\n",
       "      <td>68406.0</td>\n",
       "      <td>68414.0</td>\n",
       "      <td>67934.0</td>\n",
       "      <td>1WATERLOO</td>\n",
       "      <td>46</td>\n",
       "      <td>1476.826087</td>\n",
       "    </tr>\n",
       "    <tr>\n",
       "      <th>3</th>\n",
       "      <td>2016</td>\n",
       "      <td>1</td>\n",
       "      <td>2152</td>\n",
       "      <td>123625.0</td>\n",
       "      <td>371.0</td>\n",
       "      <td>4723.99</td>\n",
       "      <td>388.88</td>\n",
       "      <td>102.63</td>\n",
       "      <td>ROCKWELL</td>\n",
       "      <td>9.532870</td>\n",
       "      <td>14.323391</td>\n",
       "      <td>1039.0</td>\n",
       "      <td>1011.0</td>\n",
       "      <td>1012.0</td>\n",
       "      <td>1ROCKWELL</td>\n",
       "      <td>2</td>\n",
       "      <td>506.000000</td>\n",
       "    </tr>\n",
       "    <tr>\n",
       "      <th>4</th>\n",
       "      <td>2016</td>\n",
       "      <td>1</td>\n",
       "      <td>2178</td>\n",
       "      <td>192050.0</td>\n",
       "      <td>1250.0</td>\n",
       "      <td>16077.39</td>\n",
       "      <td>1251.40</td>\n",
       "      <td>330.61</td>\n",
       "      <td>WAUKON</td>\n",
       "      <td>10.317382</td>\n",
       "      <td>15.483560</td>\n",
       "      <td>3897.0</td>\n",
       "      <td>3743.0</td>\n",
       "      <td>3733.0</td>\n",
       "      <td>1WAUKON</td>\n",
       "      <td>3</td>\n",
       "      <td>1244.333333</td>\n",
       "    </tr>\n",
       "  </tbody>\n",
       "</table>\n",
       "</div>"
      ],
      "text/plain": [
       "   Year  Month Store Number  Bottle Volume (ml)  Bottles Sold  Sale (Dollars)  \\\n",
       "0  2016      1         2106            351225.0        7088.0       102944.29   \n",
       "1  2016      1         2113            120750.0         518.0         7194.92   \n",
       "2  2016      1         2130            297400.0        5532.0        83481.76   \n",
       "3  2016      1         2152            123625.0         371.0         4723.99   \n",
       "4  2016      1         2178            192050.0        1250.0        16077.39   \n",
       "\n",
       "   Volume Sold (Liters)  Volume Sold (Gallons)         City  \\\n",
       "0               6563.85                1734.28  CEDAR FALLS   \n",
       "1                509.47                 134.55       GOWRIE   \n",
       "2               5004.65                1322.15     WATERLOO   \n",
       "3                388.88                 102.63     ROCKWELL   \n",
       "4               1251.40                 330.61       WAUKON   \n",
       "\n",
       "   State Bottle Cost  State Bottle Retail  2010_pop  2015_pop_est  \\\n",
       "0          10.539114            15.813544   39260.0       41345.0   \n",
       "1          11.029764            16.548976    1037.0         989.0   \n",
       "2          10.022713            15.036309   68406.0       68414.0   \n",
       "3           9.532870            14.323391    1039.0        1011.0   \n",
       "4          10.317382            15.483560    3897.0        3743.0   \n",
       "\n",
       "   2016_pop_est         merge  Monthly Stores in City  Pop per Store  \n",
       "0       41390.0  1CEDAR FALLS                      17    2434.705882  \n",
       "1         981.0       1GOWRIE                       2     490.500000  \n",
       "2       67934.0     1WATERLOO                      46    1476.826087  \n",
       "3        1012.0     1ROCKWELL                       2     506.000000  \n",
       "4        3733.0       1WAUKON                       3    1244.333333  "
      ]
     },
     "execution_count": 129,
     "metadata": {},
     "output_type": "execute_result"
    }
   ],
   "source": [
    "BIGMERGE2016 = BIGMERGE[BIGMERGE['Year']==2016].drop(['Monthly Stores in City', 'Pop per Store'], 1)\n",
    "pps['merge'] = pps['Month'].astype(str) + pps['City'].astype(str)\n",
    "BIGMERGE2016['merge'] = BIGMERGE2016['Month'].astype(str) + BIGMERGE2016['City'].astype(str)\n",
    "pps = pps.drop(['Month','City','2010_pop','2015_pop_est','2016_pop_est'], 1)\n",
    "BIGMERGE2016 = pd.merge(BIGMERGE2016, pps, how='left', on='merge')\n",
    "BIGMERGE2016.head()"
   ]
  },
  {
   "cell_type": "code",
   "execution_count": 130,
   "metadata": {
    "scrolled": true
   },
   "outputs": [
    {
     "data": {
      "text/html": [
       "<div>\n",
       "<style>\n",
       "    .dataframe thead tr:only-child th {\n",
       "        text-align: right;\n",
       "    }\n",
       "\n",
       "    .dataframe thead th {\n",
       "        text-align: left;\n",
       "    }\n",
       "\n",
       "    .dataframe tbody tr th {\n",
       "        vertical-align: top;\n",
       "    }\n",
       "</style>\n",
       "<table border=\"1\" class=\"dataframe\">\n",
       "  <thead>\n",
       "    <tr style=\"text-align: right;\">\n",
       "      <th></th>\n",
       "      <th>Year</th>\n",
       "      <th>Month</th>\n",
       "      <th>Store Number</th>\n",
       "      <th>Bottle Volume (ml)</th>\n",
       "      <th>Bottles Sold</th>\n",
       "      <th>Sale (Dollars)</th>\n",
       "      <th>Volume Sold (Liters)</th>\n",
       "      <th>Volume Sold (Gallons)</th>\n",
       "      <th>City</th>\n",
       "      <th>State Bottle Cost</th>\n",
       "      <th>State Bottle Retail</th>\n",
       "      <th>2010_pop</th>\n",
       "      <th>2015_pop_est</th>\n",
       "      <th>2016_pop_est</th>\n",
       "      <th>merge</th>\n",
       "      <th>Monthly Stores in City</th>\n",
       "      <th>Pop per Store</th>\n",
       "    </tr>\n",
       "  </thead>\n",
       "  <tbody>\n",
       "    <tr>\n",
       "      <th>1153</th>\n",
       "      <td>2016</td>\n",
       "      <td>1</td>\n",
       "      <td>4980</td>\n",
       "      <td>12600.0</td>\n",
       "      <td>283.0</td>\n",
       "      <td>3183.90</td>\n",
       "      <td>180.0</td>\n",
       "      <td>47.59</td>\n",
       "      <td>WASHBURN</td>\n",
       "      <td>9.413000</td>\n",
       "      <td>14.122000</td>\n",
       "      <td>NaN</td>\n",
       "      <td>NaN</td>\n",
       "      <td>NaN</td>\n",
       "      <td>1WASHBURN</td>\n",
       "      <td>1</td>\n",
       "      <td>NaN</td>\n",
       "    </tr>\n",
       "    <tr>\n",
       "      <th>2556</th>\n",
       "      <td>2016</td>\n",
       "      <td>2</td>\n",
       "      <td>4980</td>\n",
       "      <td>7375.0</td>\n",
       "      <td>210.0</td>\n",
       "      <td>1854.66</td>\n",
       "      <td>145.5</td>\n",
       "      <td>38.44</td>\n",
       "      <td>WASHBURN</td>\n",
       "      <td>6.688182</td>\n",
       "      <td>10.034545</td>\n",
       "      <td>NaN</td>\n",
       "      <td>NaN</td>\n",
       "      <td>NaN</td>\n",
       "      <td>2WASHBURN</td>\n",
       "      <td>1</td>\n",
       "      <td>NaN</td>\n",
       "    </tr>\n",
       "    <tr>\n",
       "      <th>3959</th>\n",
       "      <td>2016</td>\n",
       "      <td>3</td>\n",
       "      <td>4980</td>\n",
       "      <td>6975.0</td>\n",
       "      <td>318.0</td>\n",
       "      <td>2039.88</td>\n",
       "      <td>150.3</td>\n",
       "      <td>39.74</td>\n",
       "      <td>WASHBURN</td>\n",
       "      <td>6.144167</td>\n",
       "      <td>9.218333</td>\n",
       "      <td>NaN</td>\n",
       "      <td>NaN</td>\n",
       "      <td>NaN</td>\n",
       "      <td>3WASHBURN</td>\n",
       "      <td>1</td>\n",
       "      <td>NaN</td>\n",
       "    </tr>\n",
       "    <tr>\n",
       "      <th>5362</th>\n",
       "      <td>2016</td>\n",
       "      <td>4</td>\n",
       "      <td>4980</td>\n",
       "      <td>NaN</td>\n",
       "      <td>NaN</td>\n",
       "      <td>NaN</td>\n",
       "      <td>NaN</td>\n",
       "      <td>NaN</td>\n",
       "      <td>WASHBURN</td>\n",
       "      <td>NaN</td>\n",
       "      <td>NaN</td>\n",
       "      <td>NaN</td>\n",
       "      <td>NaN</td>\n",
       "      <td>NaN</td>\n",
       "      <td>4WASHBURN</td>\n",
       "      <td>1</td>\n",
       "      <td>NaN</td>\n",
       "    </tr>\n",
       "    <tr>\n",
       "      <th>6765</th>\n",
       "      <td>2016</td>\n",
       "      <td>5</td>\n",
       "      <td>4980</td>\n",
       "      <td>NaN</td>\n",
       "      <td>NaN</td>\n",
       "      <td>NaN</td>\n",
       "      <td>NaN</td>\n",
       "      <td>NaN</td>\n",
       "      <td>WASHBURN</td>\n",
       "      <td>NaN</td>\n",
       "      <td>NaN</td>\n",
       "      <td>NaN</td>\n",
       "      <td>NaN</td>\n",
       "      <td>NaN</td>\n",
       "      <td>5WASHBURN</td>\n",
       "      <td>1</td>\n",
       "      <td>NaN</td>\n",
       "    </tr>\n",
       "    <tr>\n",
       "      <th>8168</th>\n",
       "      <td>2016</td>\n",
       "      <td>6</td>\n",
       "      <td>4980</td>\n",
       "      <td>NaN</td>\n",
       "      <td>NaN</td>\n",
       "      <td>NaN</td>\n",
       "      <td>NaN</td>\n",
       "      <td>NaN</td>\n",
       "      <td>WASHBURN</td>\n",
       "      <td>NaN</td>\n",
       "      <td>NaN</td>\n",
       "      <td>NaN</td>\n",
       "      <td>NaN</td>\n",
       "      <td>NaN</td>\n",
       "      <td>6WASHBURN</td>\n",
       "      <td>1</td>\n",
       "      <td>NaN</td>\n",
       "    </tr>\n",
       "    <tr>\n",
       "      <th>9571</th>\n",
       "      <td>2016</td>\n",
       "      <td>7</td>\n",
       "      <td>4980</td>\n",
       "      <td>NaN</td>\n",
       "      <td>NaN</td>\n",
       "      <td>NaN</td>\n",
       "      <td>NaN</td>\n",
       "      <td>NaN</td>\n",
       "      <td>WASHBURN</td>\n",
       "      <td>NaN</td>\n",
       "      <td>NaN</td>\n",
       "      <td>NaN</td>\n",
       "      <td>NaN</td>\n",
       "      <td>NaN</td>\n",
       "      <td>7WASHBURN</td>\n",
       "      <td>1</td>\n",
       "      <td>NaN</td>\n",
       "    </tr>\n",
       "    <tr>\n",
       "      <th>10974</th>\n",
       "      <td>2016</td>\n",
       "      <td>8</td>\n",
       "      <td>4980</td>\n",
       "      <td>NaN</td>\n",
       "      <td>NaN</td>\n",
       "      <td>NaN</td>\n",
       "      <td>NaN</td>\n",
       "      <td>NaN</td>\n",
       "      <td>WASHBURN</td>\n",
       "      <td>NaN</td>\n",
       "      <td>NaN</td>\n",
       "      <td>NaN</td>\n",
       "      <td>NaN</td>\n",
       "      <td>NaN</td>\n",
       "      <td>8WASHBURN</td>\n",
       "      <td>1</td>\n",
       "      <td>NaN</td>\n",
       "    </tr>\n",
       "    <tr>\n",
       "      <th>12377</th>\n",
       "      <td>2016</td>\n",
       "      <td>9</td>\n",
       "      <td>4980</td>\n",
       "      <td>NaN</td>\n",
       "      <td>NaN</td>\n",
       "      <td>NaN</td>\n",
       "      <td>NaN</td>\n",
       "      <td>NaN</td>\n",
       "      <td>WASHBURN</td>\n",
       "      <td>NaN</td>\n",
       "      <td>NaN</td>\n",
       "      <td>NaN</td>\n",
       "      <td>NaN</td>\n",
       "      <td>NaN</td>\n",
       "      <td>9WASHBURN</td>\n",
       "      <td>1</td>\n",
       "      <td>NaN</td>\n",
       "    </tr>\n",
       "    <tr>\n",
       "      <th>13780</th>\n",
       "      <td>2016</td>\n",
       "      <td>10</td>\n",
       "      <td>4980</td>\n",
       "      <td>NaN</td>\n",
       "      <td>NaN</td>\n",
       "      <td>NaN</td>\n",
       "      <td>NaN</td>\n",
       "      <td>NaN</td>\n",
       "      <td>WASHBURN</td>\n",
       "      <td>NaN</td>\n",
       "      <td>NaN</td>\n",
       "      <td>NaN</td>\n",
       "      <td>NaN</td>\n",
       "      <td>NaN</td>\n",
       "      <td>10WASHBURN</td>\n",
       "      <td>1</td>\n",
       "      <td>NaN</td>\n",
       "    </tr>\n",
       "    <tr>\n",
       "      <th>15183</th>\n",
       "      <td>2016</td>\n",
       "      <td>11</td>\n",
       "      <td>4980</td>\n",
       "      <td>NaN</td>\n",
       "      <td>NaN</td>\n",
       "      <td>NaN</td>\n",
       "      <td>NaN</td>\n",
       "      <td>NaN</td>\n",
       "      <td>WASHBURN</td>\n",
       "      <td>NaN</td>\n",
       "      <td>NaN</td>\n",
       "      <td>NaN</td>\n",
       "      <td>NaN</td>\n",
       "      <td>NaN</td>\n",
       "      <td>11WASHBURN</td>\n",
       "      <td>1</td>\n",
       "      <td>NaN</td>\n",
       "    </tr>\n",
       "    <tr>\n",
       "      <th>16586</th>\n",
       "      <td>2016</td>\n",
       "      <td>12</td>\n",
       "      <td>4980</td>\n",
       "      <td>NaN</td>\n",
       "      <td>NaN</td>\n",
       "      <td>NaN</td>\n",
       "      <td>NaN</td>\n",
       "      <td>NaN</td>\n",
       "      <td>WASHBURN</td>\n",
       "      <td>NaN</td>\n",
       "      <td>NaN</td>\n",
       "      <td>NaN</td>\n",
       "      <td>NaN</td>\n",
       "      <td>NaN</td>\n",
       "      <td>12WASHBURN</td>\n",
       "      <td>1</td>\n",
       "      <td>NaN</td>\n",
       "    </tr>\n",
       "  </tbody>\n",
       "</table>\n",
       "</div>"
      ],
      "text/plain": [
       "       Year  Month Store Number  Bottle Volume (ml)  Bottles Sold  \\\n",
       "1153   2016      1         4980             12600.0         283.0   \n",
       "2556   2016      2         4980              7375.0         210.0   \n",
       "3959   2016      3         4980              6975.0         318.0   \n",
       "5362   2016      4         4980                 NaN           NaN   \n",
       "6765   2016      5         4980                 NaN           NaN   \n",
       "8168   2016      6         4980                 NaN           NaN   \n",
       "9571   2016      7         4980                 NaN           NaN   \n",
       "10974  2016      8         4980                 NaN           NaN   \n",
       "12377  2016      9         4980                 NaN           NaN   \n",
       "13780  2016     10         4980                 NaN           NaN   \n",
       "15183  2016     11         4980                 NaN           NaN   \n",
       "16586  2016     12         4980                 NaN           NaN   \n",
       "\n",
       "       Sale (Dollars)  Volume Sold (Liters)  Volume Sold (Gallons)      City  \\\n",
       "1153          3183.90                 180.0                  47.59  WASHBURN   \n",
       "2556          1854.66                 145.5                  38.44  WASHBURN   \n",
       "3959          2039.88                 150.3                  39.74  WASHBURN   \n",
       "5362              NaN                   NaN                    NaN  WASHBURN   \n",
       "6765              NaN                   NaN                    NaN  WASHBURN   \n",
       "8168              NaN                   NaN                    NaN  WASHBURN   \n",
       "9571              NaN                   NaN                    NaN  WASHBURN   \n",
       "10974             NaN                   NaN                    NaN  WASHBURN   \n",
       "12377             NaN                   NaN                    NaN  WASHBURN   \n",
       "13780             NaN                   NaN                    NaN  WASHBURN   \n",
       "15183             NaN                   NaN                    NaN  WASHBURN   \n",
       "16586             NaN                   NaN                    NaN  WASHBURN   \n",
       "\n",
       "       State Bottle Cost  State Bottle Retail  2010_pop  2015_pop_est  \\\n",
       "1153            9.413000            14.122000       NaN           NaN   \n",
       "2556            6.688182            10.034545       NaN           NaN   \n",
       "3959            6.144167             9.218333       NaN           NaN   \n",
       "5362                 NaN                  NaN       NaN           NaN   \n",
       "6765                 NaN                  NaN       NaN           NaN   \n",
       "8168                 NaN                  NaN       NaN           NaN   \n",
       "9571                 NaN                  NaN       NaN           NaN   \n",
       "10974                NaN                  NaN       NaN           NaN   \n",
       "12377                NaN                  NaN       NaN           NaN   \n",
       "13780                NaN                  NaN       NaN           NaN   \n",
       "15183                NaN                  NaN       NaN           NaN   \n",
       "16586                NaN                  NaN       NaN           NaN   \n",
       "\n",
       "       2016_pop_est       merge  Monthly Stores in City  Pop per Store  \n",
       "1153            NaN   1WASHBURN                       1            NaN  \n",
       "2556            NaN   2WASHBURN                       1            NaN  \n",
       "3959            NaN   3WASHBURN                       1            NaN  \n",
       "5362            NaN   4WASHBURN                       1            NaN  \n",
       "6765            NaN   5WASHBURN                       1            NaN  \n",
       "8168            NaN   6WASHBURN                       1            NaN  \n",
       "9571            NaN   7WASHBURN                       1            NaN  \n",
       "10974           NaN   8WASHBURN                       1            NaN  \n",
       "12377           NaN   9WASHBURN                       1            NaN  \n",
       "13780           NaN  10WASHBURN                       1            NaN  \n",
       "15183           NaN  11WASHBURN                       1            NaN  \n",
       "16586           NaN  12WASHBURN                       1            NaN  "
      ]
     },
     "execution_count": 130,
     "metadata": {},
     "output_type": "execute_result"
    }
   ],
   "source": [
    "BIGMERGE2016[BIGMERGE2016['Pop per Store'].isnull()]\n",
    "# maintaining Washburn hatred"
   ]
  },
  {
   "cell_type": "code",
   "execution_count": 131,
   "metadata": {
    "collapsed": true
   },
   "outputs": [],
   "source": [
    "BIGMERGE2016 = BIGMERGE2016.drop('merge', 1)"
   ]
  },
  {
   "cell_type": "code",
   "execution_count": 132,
   "metadata": {},
   "outputs": [
    {
     "data": {
      "text/plain": [
       "371"
      ]
     },
     "execution_count": 132,
     "metadata": {},
     "output_type": "execute_result"
    }
   ],
   "source": [
    "BIGMERGE2016.City.nunique()"
   ]
  },
  {
   "cell_type": "code",
   "execution_count": 133,
   "metadata": {},
   "outputs": [
    {
     "data": {
      "text/html": [
       "<div>\n",
       "<style>\n",
       "    .dataframe thead tr:only-child th {\n",
       "        text-align: right;\n",
       "    }\n",
       "\n",
       "    .dataframe thead th {\n",
       "        text-align: left;\n",
       "    }\n",
       "\n",
       "    .dataframe tbody tr th {\n",
       "        vertical-align: top;\n",
       "    }\n",
       "</style>\n",
       "<table border=\"1\" class=\"dataframe\">\n",
       "  <thead>\n",
       "    <tr style=\"text-align: right;\">\n",
       "      <th></th>\n",
       "      <th>City</th>\n",
       "      <th>Pop per Store</th>\n",
       "      <th>Monthly Stores in City</th>\n",
       "    </tr>\n",
       "  </thead>\n",
       "  <tbody>\n",
       "    <tr>\n",
       "      <th>0</th>\n",
       "      <td>ACKLEY</td>\n",
       "      <td>773.0</td>\n",
       "      <td>2</td>\n",
       "    </tr>\n",
       "    <tr>\n",
       "      <th>1</th>\n",
       "      <td>ADAIR</td>\n",
       "      <td>358.0</td>\n",
       "      <td>2</td>\n",
       "    </tr>\n",
       "    <tr>\n",
       "      <th>2</th>\n",
       "      <td>ADEL</td>\n",
       "      <td>1431.0</td>\n",
       "      <td>3</td>\n",
       "    </tr>\n",
       "    <tr>\n",
       "      <th>3</th>\n",
       "      <td>AFTON</td>\n",
       "      <td>832.0</td>\n",
       "      <td>1</td>\n",
       "    </tr>\n",
       "    <tr>\n",
       "      <th>4</th>\n",
       "      <td>AKRON</td>\n",
       "      <td>1465.0</td>\n",
       "      <td>1</td>\n",
       "    </tr>\n",
       "  </tbody>\n",
       "</table>\n",
       "</div>"
      ],
      "text/plain": [
       "     City  Pop per Store  Monthly Stores in City\n",
       "0  ACKLEY          773.0                       2\n",
       "1   ADAIR          358.0                       2\n",
       "2    ADEL         1431.0                       3\n",
       "3   AFTON          832.0                       1\n",
       "4   AKRON         1465.0                       1"
      ]
     },
     "execution_count": 133,
     "metadata": {},
     "output_type": "execute_result"
    }
   ],
   "source": [
    "features = BIGMERGE2016.groupby('City', as_index=False)['Pop per Store', 'Monthly Stores in City'].mean()\n",
    "features.head()"
   ]
  },
  {
   "cell_type": "code",
   "execution_count": 134,
   "metadata": {},
   "outputs": [
    {
     "data": {
      "text/plain": [
       "(371, 3)"
      ]
     },
     "execution_count": 134,
     "metadata": {},
     "output_type": "execute_result"
    }
   ],
   "source": [
    "features.shape"
   ]
  },
  {
   "cell_type": "code",
   "execution_count": 135,
   "metadata": {
    "collapsed": true
   },
   "outputs": [],
   "source": [
    "# Add columns for January 2016 average store sales\n",
    "features = pd.merge(features, BIGMERGE2016[(BIGMERGE2016['Year']==2016) & (BIGMERGE2016['Month']==1)].groupby('City', as_index=False)[['Sale (Dollars)']].mean(), how='left', on='City')\n",
    "features.columns = ['City', 'Pop per Store', 'Monthly Stores in City','Jan_2016_Sales']"
   ]
  },
  {
   "cell_type": "code",
   "execution_count": 136,
   "metadata": {
    "collapsed": true
   },
   "outputs": [],
   "source": [
    "# And February\n",
    "features = pd.merge(features, BIGMERGE2016[(BIGMERGE2016['Year']==2016) & (BIGMERGE2016['Month']==2)].groupby('City', as_index=False)[['Sale (Dollars)']].mean(), how='left', on='City')\n",
    "features.columns = ['City', 'Pop per Store', 'Monthly Stores in City','Jan_2016_Sales', 'Feb_2016_Sales']"
   ]
  },
  {
   "cell_type": "code",
   "execution_count": 137,
   "metadata": {
    "collapsed": true
   },
   "outputs": [],
   "source": [
    "# And March\n",
    "features = pd.merge(features, BIGMERGE2016[(BIGMERGE2016['Year']==2016) & (BIGMERGE2016['Month']==3)].groupby('City', as_index=False)[['Sale (Dollars)']].mean(), how='left', on='City')\n",
    "features.columns = ['City', 'Pop per Store', 'Monthly Stores in City','Jan_2016_Sales', 'Feb_2016_Sales', 'Mar_2016_Sales']"
   ]
  },
  {
   "cell_type": "code",
   "execution_count": 138,
   "metadata": {
    "scrolled": true
   },
   "outputs": [
    {
     "name": "stdout",
     "output_type": "stream",
     "text": [
      "(371, 6)\n",
      "(371, 6)\n",
      "(371, 3)\n"
     ]
    },
    {
     "data": {
      "text/html": [
       "<div>\n",
       "<style>\n",
       "    .dataframe thead tr:only-child th {\n",
       "        text-align: right;\n",
       "    }\n",
       "\n",
       "    .dataframe thead th {\n",
       "        text-align: left;\n",
       "    }\n",
       "\n",
       "    .dataframe tbody tr th {\n",
       "        vertical-align: top;\n",
       "    }\n",
       "</style>\n",
       "<table border=\"1\" class=\"dataframe\">\n",
       "  <thead>\n",
       "    <tr style=\"text-align: right;\">\n",
       "      <th></th>\n",
       "      <th>City</th>\n",
       "      <th>Pop per Store</th>\n",
       "      <th>Monthly Stores in City</th>\n",
       "      <th>Jan_2016_Sales</th>\n",
       "      <th>Feb_2016_Sales</th>\n",
       "      <th>Mar_2016_Sales</th>\n",
       "    </tr>\n",
       "  </thead>\n",
       "  <tbody>\n",
       "    <tr>\n",
       "      <th>0</th>\n",
       "      <td>ACKLEY</td>\n",
       "      <td>773.0</td>\n",
       "      <td>2</td>\n",
       "      <td>3075.710</td>\n",
       "      <td>4302.69</td>\n",
       "      <td>2557.235000</td>\n",
       "    </tr>\n",
       "    <tr>\n",
       "      <th>1</th>\n",
       "      <td>ADAIR</td>\n",
       "      <td>358.0</td>\n",
       "      <td>2</td>\n",
       "      <td>1457.525</td>\n",
       "      <td>3597.60</td>\n",
       "      <td>2867.580000</td>\n",
       "    </tr>\n",
       "    <tr>\n",
       "      <th>2</th>\n",
       "      <td>ADEL</td>\n",
       "      <td>1431.0</td>\n",
       "      <td>3</td>\n",
       "      <td>6190.100</td>\n",
       "      <td>5601.28</td>\n",
       "      <td>10738.973333</td>\n",
       "    </tr>\n",
       "    <tr>\n",
       "      <th>3</th>\n",
       "      <td>AFTON</td>\n",
       "      <td>832.0</td>\n",
       "      <td>1</td>\n",
       "      <td>3378.100</td>\n",
       "      <td>895.38</td>\n",
       "      <td>2696.880000</td>\n",
       "    </tr>\n",
       "    <tr>\n",
       "      <th>4</th>\n",
       "      <td>AKRON</td>\n",
       "      <td>1465.0</td>\n",
       "      <td>1</td>\n",
       "      <td>1678.980</td>\n",
       "      <td>4305.39</td>\n",
       "      <td>2512.390000</td>\n",
       "    </tr>\n",
       "  </tbody>\n",
       "</table>\n",
       "</div>"
      ],
      "text/plain": [
       "     City  Pop per Store  Monthly Stores in City  Jan_2016_Sales  \\\n",
       "0  ACKLEY          773.0                       2        3075.710   \n",
       "1   ADAIR          358.0                       2        1457.525   \n",
       "2    ADEL         1431.0                       3        6190.100   \n",
       "3   AFTON          832.0                       1        3378.100   \n",
       "4   AKRON         1465.0                       1        1678.980   \n",
       "\n",
       "   Feb_2016_Sales  Mar_2016_Sales  \n",
       "0         4302.69     2557.235000  \n",
       "1         3597.60     2867.580000  \n",
       "2         5601.28    10738.973333  \n",
       "3          895.38     2696.880000  \n",
       "4         4305.39     2512.390000  "
      ]
     },
     "execution_count": 138,
     "metadata": {},
     "output_type": "execute_result"
    }
   ],
   "source": [
    "print(features.shape)\n",
    "print(features.fillna(0).shape)\n",
    "print(citytarget.shape)\n",
    "features.head()"
   ]
  },
  {
   "cell_type": "code",
   "execution_count": 139,
   "metadata": {},
   "outputs": [
    {
     "data": {
      "text/plain": [
       "City                       0\n",
       "Pop per Store              1\n",
       "Monthly Stores in City     0\n",
       "Jan_2016_Sales            15\n",
       "Feb_2016_Sales            22\n",
       "Mar_2016_Sales            11\n",
       "dtype: int64"
      ]
     },
     "execution_count": 139,
     "metadata": {},
     "output_type": "execute_result"
    }
   ],
   "source": [
    "features.isnull().sum()"
   ]
  },
  {
   "cell_type": "code",
   "execution_count": 140,
   "metadata": {
    "collapsed": true
   },
   "outputs": [],
   "source": [
    "X2016 = features.drop(['City', 'Monthly Stores in City'], 1).fillna(0)\n",
    "X2016 = sm.add_constant(X2016) \n",
    "predictions = lm.predict(X2016)"
   ]
  },
  {
   "cell_type": "code",
   "execution_count": 82,
   "metadata": {},
   "outputs": [
    {
     "data": {
      "text/html": [
       "<div>\n",
       "<style>\n",
       "    .dataframe thead tr:only-child th {\n",
       "        text-align: right;\n",
       "    }\n",
       "\n",
       "    .dataframe thead th {\n",
       "        text-align: left;\n",
       "    }\n",
       "\n",
       "    .dataframe tbody tr th {\n",
       "        vertical-align: top;\n",
       "    }\n",
       "</style>\n",
       "<table border=\"1\" class=\"dataframe\">\n",
       "  <thead>\n",
       "    <tr style=\"text-align: right;\">\n",
       "      <th></th>\n",
       "      <th>City</th>\n",
       "      <th>Pop per Store</th>\n",
       "      <th>Monthly Stores in City</th>\n",
       "      <th>Jan_2016_Sales</th>\n",
       "      <th>Feb_2016_Sales</th>\n",
       "      <th>Mar_2016_Sales</th>\n",
       "      <th>2016_Total_Est</th>\n",
       "    </tr>\n",
       "  </thead>\n",
       "  <tbody>\n",
       "    <tr>\n",
       "      <th>235</th>\n",
       "      <td>MOUNT VERNON</td>\n",
       "      <td>1481.333333</td>\n",
       "      <td>3</td>\n",
       "      <td>90401.125000</td>\n",
       "      <td>104651.935000</td>\n",
       "      <td>124654.775000</td>\n",
       "      <td>1.349467e+06</td>\n",
       "    </tr>\n",
       "    <tr>\n",
       "      <th>365</th>\n",
       "      <td>WINDSOR HEIGHTS</td>\n",
       "      <td>830.500000</td>\n",
       "      <td>6</td>\n",
       "      <td>54035.460000</td>\n",
       "      <td>48695.423333</td>\n",
       "      <td>54804.580000</td>\n",
       "      <td>6.865560e+05</td>\n",
       "    </tr>\n",
       "    <tr>\n",
       "      <th>224</th>\n",
       "      <td>MILFORD</td>\n",
       "      <td>1527.500000</td>\n",
       "      <td>2</td>\n",
       "      <td>40458.080000</td>\n",
       "      <td>63612.480000</td>\n",
       "      <td>33475.425000</td>\n",
       "      <td>6.347932e+05</td>\n",
       "    </tr>\n",
       "    <tr>\n",
       "      <th>30</th>\n",
       "      <td>BETTENDORF</td>\n",
       "      <td>2977.250000</td>\n",
       "      <td>12</td>\n",
       "      <td>34331.174545</td>\n",
       "      <td>43287.087000</td>\n",
       "      <td>40605.620909</td>\n",
       "      <td>5.529297e+05</td>\n",
       "    </tr>\n",
       "    <tr>\n",
       "      <th>89</th>\n",
       "      <td>DES MOINES</td>\n",
       "      <td>2394.133333</td>\n",
       "      <td>90</td>\n",
       "      <td>31558.350649</td>\n",
       "      <td>41709.924533</td>\n",
       "      <td>43987.645526</td>\n",
       "      <td>5.279785e+05</td>\n",
       "    </tr>\n",
       "    <tr>\n",
       "      <th>339</th>\n",
       "      <td>VINTON</td>\n",
       "      <td>5143.000000</td>\n",
       "      <td>1</td>\n",
       "      <td>22381.710000</td>\n",
       "      <td>43305.630000</td>\n",
       "      <td>27047.730000</td>\n",
       "      <td>4.902478e+05</td>\n",
       "    </tr>\n",
       "    <tr>\n",
       "      <th>170</th>\n",
       "      <td>IOWA CITY</td>\n",
       "      <td>2861.461538</td>\n",
       "      <td>26</td>\n",
       "      <td>26914.127200</td>\n",
       "      <td>35639.885000</td>\n",
       "      <td>36517.757500</td>\n",
       "      <td>4.625952e+05</td>\n",
       "    </tr>\n",
       "    <tr>\n",
       "      <th>68</th>\n",
       "      <td>CORALVILLE</td>\n",
       "      <td>1456.928571</td>\n",
       "      <td>14</td>\n",
       "      <td>29020.878333</td>\n",
       "      <td>35136.128182</td>\n",
       "      <td>42339.270000</td>\n",
       "      <td>4.611364e+05</td>\n",
       "    </tr>\n",
       "    <tr>\n",
       "      <th>12</th>\n",
       "      <td>ANAMOSA</td>\n",
       "      <td>1810.000000</td>\n",
       "      <td>3</td>\n",
       "      <td>29130.120000</td>\n",
       "      <td>32378.160000</td>\n",
       "      <td>36148.320000</td>\n",
       "      <td>4.391575e+05</td>\n",
       "    </tr>\n",
       "    <tr>\n",
       "      <th>11</th>\n",
       "      <td>AMES</td>\n",
       "      <td>2647.640000</td>\n",
       "      <td>25</td>\n",
       "      <td>23724.738750</td>\n",
       "      <td>28551.710000</td>\n",
       "      <td>26794.310870</td>\n",
       "      <td>3.818008e+05</td>\n",
       "    </tr>\n",
       "    <tr>\n",
       "      <th>178</th>\n",
       "      <td>KEOKUK</td>\n",
       "      <td>1490.142857</td>\n",
       "      <td>7</td>\n",
       "      <td>25026.028333</td>\n",
       "      <td>32017.970000</td>\n",
       "      <td>24128.490000</td>\n",
       "      <td>3.760835e+05</td>\n",
       "    </tr>\n",
       "    <tr>\n",
       "      <th>45</th>\n",
       "      <td>CARROLL</td>\n",
       "      <td>1421.000000</td>\n",
       "      <td>7</td>\n",
       "      <td>23814.543333</td>\n",
       "      <td>30116.374000</td>\n",
       "      <td>29419.495000</td>\n",
       "      <td>3.733063e+05</td>\n",
       "    </tr>\n",
       "    <tr>\n",
       "      <th>348</th>\n",
       "      <td>WAUKEE</td>\n",
       "      <td>3856.800000</td>\n",
       "      <td>5</td>\n",
       "      <td>15318.354000</td>\n",
       "      <td>26896.380000</td>\n",
       "      <td>32509.696000</td>\n",
       "      <td>3.648531e+05</td>\n",
       "    </tr>\n",
       "    <tr>\n",
       "      <th>211</th>\n",
       "      <td>MAQUOKETA</td>\n",
       "      <td>1993.000000</td>\n",
       "      <td>3</td>\n",
       "      <td>23686.810000</td>\n",
       "      <td>29582.483333</td>\n",
       "      <td>22622.490000</td>\n",
       "      <td>3.627771e+05</td>\n",
       "    </tr>\n",
       "    <tr>\n",
       "      <th>265</th>\n",
       "      <td>PELLA</td>\n",
       "      <td>3418.333333</td>\n",
       "      <td>3</td>\n",
       "      <td>15866.206667</td>\n",
       "      <td>29935.010000</td>\n",
       "      <td>28275.610000</td>\n",
       "      <td>3.623342e+05</td>\n",
       "    </tr>\n",
       "    <tr>\n",
       "      <th>79</th>\n",
       "      <td>DAVENPORT</td>\n",
       "      <td>2280.266667</td>\n",
       "      <td>45</td>\n",
       "      <td>21756.509762</td>\n",
       "      <td>25690.399535</td>\n",
       "      <td>30600.004762</td>\n",
       "      <td>3.606938e+05</td>\n",
       "    </tr>\n",
       "    <tr>\n",
       "      <th>268</th>\n",
       "      <td>PLEASANT HILL</td>\n",
       "      <td>3250.000000</td>\n",
       "      <td>3</td>\n",
       "      <td>22341.320000</td>\n",
       "      <td>20952.273333</td>\n",
       "      <td>27492.373333</td>\n",
       "      <td>3.522000e+05</td>\n",
       "    </tr>\n",
       "    <tr>\n",
       "      <th>49</th>\n",
       "      <td>CEDAR FALLS</td>\n",
       "      <td>2434.705882</td>\n",
       "      <td>17</td>\n",
       "      <td>21276.676471</td>\n",
       "      <td>25885.935294</td>\n",
       "      <td>26344.278235</td>\n",
       "      <td>3.504258e+05</td>\n",
       "    </tr>\n",
       "    <tr>\n",
       "      <th>7</th>\n",
       "      <td>ALGONA</td>\n",
       "      <td>1838.333333</td>\n",
       "      <td>3</td>\n",
       "      <td>26739.196667</td>\n",
       "      <td>23267.986667</td>\n",
       "      <td>23479.656667</td>\n",
       "      <td>3.502564e+05</td>\n",
       "    </tr>\n",
       "    <tr>\n",
       "      <th>304</th>\n",
       "      <td>SIOUX CITY</td>\n",
       "      <td>2437.411765</td>\n",
       "      <td>34</td>\n",
       "      <td>20875.798529</td>\n",
       "      <td>22430.242187</td>\n",
       "      <td>28407.291613</td>\n",
       "      <td>3.377857e+05</td>\n",
       "    </tr>\n",
       "    <tr>\n",
       "      <th>358</th>\n",
       "      <td>WEST DES MOINES</td>\n",
       "      <td>2152.000000</td>\n",
       "      <td>30</td>\n",
       "      <td>21393.520690</td>\n",
       "      <td>25204.069655</td>\n",
       "      <td>24397.617586</td>\n",
       "      <td>3.373754e+05</td>\n",
       "    </tr>\n",
       "    <tr>\n",
       "      <th>61</th>\n",
       "      <td>CLINTON</td>\n",
       "      <td>2338.090909</td>\n",
       "      <td>11</td>\n",
       "      <td>21848.636667</td>\n",
       "      <td>22003.191111</td>\n",
       "      <td>27585.521000</td>\n",
       "      <td>3.372333e+05</td>\n",
       "    </tr>\n",
       "    <tr>\n",
       "      <th>196</th>\n",
       "      <td>LE MARS</td>\n",
       "      <td>2483.750000</td>\n",
       "      <td>4</td>\n",
       "      <td>21603.440000</td>\n",
       "      <td>20332.512500</td>\n",
       "      <td>27241.367500</td>\n",
       "      <td>3.299785e+05</td>\n",
       "    </tr>\n",
       "    <tr>\n",
       "      <th>217</th>\n",
       "      <td>MASON CITY</td>\n",
       "      <td>1959.285714</td>\n",
       "      <td>14</td>\n",
       "      <td>23064.126667</td>\n",
       "      <td>22075.000000</td>\n",
       "      <td>24025.107143</td>\n",
       "      <td>3.277318e+05</td>\n",
       "    </tr>\n",
       "    <tr>\n",
       "      <th>213</th>\n",
       "      <td>MARENGO</td>\n",
       "      <td>2491.000000</td>\n",
       "      <td>1</td>\n",
       "      <td>16343.330000</td>\n",
       "      <td>27562.550000</td>\n",
       "      <td>24324.480000</td>\n",
       "      <td>3.259421e+05</td>\n",
       "    </tr>\n",
       "  </tbody>\n",
       "</table>\n",
       "</div>"
      ],
      "text/plain": [
       "                City  Pop per Store  Monthly Stores in City  Jan_2016_Sales  \\\n",
       "235     MOUNT VERNON    1481.333333                       3    90401.125000   \n",
       "365  WINDSOR HEIGHTS     830.500000                       6    54035.460000   \n",
       "224          MILFORD    1527.500000                       2    40458.080000   \n",
       "30        BETTENDORF    2977.250000                      12    34331.174545   \n",
       "89        DES MOINES    2394.133333                      90    31558.350649   \n",
       "339           VINTON    5143.000000                       1    22381.710000   \n",
       "170        IOWA CITY    2861.461538                      26    26914.127200   \n",
       "68        CORALVILLE    1456.928571                      14    29020.878333   \n",
       "12           ANAMOSA    1810.000000                       3    29130.120000   \n",
       "11              AMES    2647.640000                      25    23724.738750   \n",
       "178           KEOKUK    1490.142857                       7    25026.028333   \n",
       "45           CARROLL    1421.000000                       7    23814.543333   \n",
       "348           WAUKEE    3856.800000                       5    15318.354000   \n",
       "211        MAQUOKETA    1993.000000                       3    23686.810000   \n",
       "265            PELLA    3418.333333                       3    15866.206667   \n",
       "79         DAVENPORT    2280.266667                      45    21756.509762   \n",
       "268    PLEASANT HILL    3250.000000                       3    22341.320000   \n",
       "49       CEDAR FALLS    2434.705882                      17    21276.676471   \n",
       "7             ALGONA    1838.333333                       3    26739.196667   \n",
       "304       SIOUX CITY    2437.411765                      34    20875.798529   \n",
       "358  WEST DES MOINES    2152.000000                      30    21393.520690   \n",
       "61           CLINTON    2338.090909                      11    21848.636667   \n",
       "196          LE MARS    2483.750000                       4    21603.440000   \n",
       "217       MASON CITY    1959.285714                      14    23064.126667   \n",
       "213          MARENGO    2491.000000                       1    16343.330000   \n",
       "\n",
       "     Feb_2016_Sales  Mar_2016_Sales  2016_Total_Est  \n",
       "235   104651.935000   124654.775000    1.349467e+06  \n",
       "365    48695.423333    54804.580000    6.865560e+05  \n",
       "224    63612.480000    33475.425000    6.347932e+05  \n",
       "30     43287.087000    40605.620909    5.529297e+05  \n",
       "89     41709.924533    43987.645526    5.279785e+05  \n",
       "339    43305.630000    27047.730000    4.902478e+05  \n",
       "170    35639.885000    36517.757500    4.625952e+05  \n",
       "68     35136.128182    42339.270000    4.611364e+05  \n",
       "12     32378.160000    36148.320000    4.391575e+05  \n",
       "11     28551.710000    26794.310870    3.818008e+05  \n",
       "178    32017.970000    24128.490000    3.760835e+05  \n",
       "45     30116.374000    29419.495000    3.733063e+05  \n",
       "348    26896.380000    32509.696000    3.648531e+05  \n",
       "211    29582.483333    22622.490000    3.627771e+05  \n",
       "265    29935.010000    28275.610000    3.623342e+05  \n",
       "79     25690.399535    30600.004762    3.606938e+05  \n",
       "268    20952.273333    27492.373333    3.522000e+05  \n",
       "49     25885.935294    26344.278235    3.504258e+05  \n",
       "7      23267.986667    23479.656667    3.502564e+05  \n",
       "304    22430.242187    28407.291613    3.377857e+05  \n",
       "358    25204.069655    24397.617586    3.373754e+05  \n",
       "61     22003.191111    27585.521000    3.372333e+05  \n",
       "196    20332.512500    27241.367500    3.299785e+05  \n",
       "217    22075.000000    24025.107143    3.277318e+05  \n",
       "213    27562.550000    24324.480000    3.259421e+05  "
      ]
     },
     "execution_count": 82,
     "metadata": {},
     "output_type": "execute_result"
    }
   ],
   "source": [
    "features['2016_Total_Est'] = predictions\n",
    "features.sort_values('2016_Total_Est', ascending=False).head(25)\n",
    "# She's beautiful."
   ]
  }
 ],
 "metadata": {
  "anaconda-cloud": {},
  "kernelspec": {
   "display_name": "Python 3",
   "language": "python",
   "name": "python3"
  },
  "language_info": {
   "codemirror_mode": {
    "name": "ipython",
    "version": 3
   },
   "file_extension": ".py",
   "mimetype": "text/x-python",
   "name": "python",
   "nbconvert_exporter": "python",
   "pygments_lexer": "ipython3",
   "version": "3.6.2"
  }
 },
 "nbformat": 4,
 "nbformat_minor": 1
}
